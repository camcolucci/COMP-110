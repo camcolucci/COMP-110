{
 "cells": [
  {
   "cell_type": "markdown",
   "id": "usual-jonathan",
   "metadata": {},
   "source": [
    "# Conditionals"
   ]
  },
  {
   "cell_type": "markdown",
   "id": "french-weight",
   "metadata": {},
   "source": [
    "In this unit, we will discuss conditionals and how they allow us to run code only under certain conditions!"
   ]
  },
  {
   "cell_type": "markdown",
   "id": "foreign-heater",
   "metadata": {},
   "source": [
    "---\n",
    "## Learning objectives\n",
    "\n",
    "By the end of this unit, you should be able to…\n",
    "\n",
    "- Construct a conditional statement using if, if else, and elif\n",
    "- Evaluate a nest conditional\n"
   ]
  },
  {
   "cell_type": "markdown",
   "id": "valuable-highlight",
   "metadata": {},
   "source": [
    "---\n",
    "## Conditional statements"
   ]
  },
  {
   "cell_type": "markdown",
   "id": "signal-gather",
   "metadata": {
    "tags": []
   },
   "source": [
    "### Try it"
   ]
  },
  {
   "cell_type": "markdown",
   "id": "waiting-sculpture",
   "metadata": {},
   "source": [
    "**Group discussion** Describe one part of your daily routine that you would only do under certain conditions?"
   ]
  },
  {
   "cell_type": "raw",
   "id": "requested-provision",
   "metadata": {},
   "source": []
  },
  {
   "cell_type": "markdown",
   "id": "technical-couple",
   "metadata": {},
   "source": [
    "---\n",
    "\n",
    "What is printed while executing this code? **This is a poll question**\n",
    "\n",
    "|||\n",
    "|---|---|\n",
    "|A.|Nothing|\n",
    "|B.|1|\n",
    "|C.|5|\n",
    "|D.|1<br>5|\n",
    "|E.|3<br>7|"
   ]
  },
  {
   "cell_type": "code",
   "execution_count": 1,
   "id": "every-diving",
   "metadata": {},
   "outputs": [
    {
     "name": "stdout",
     "output_type": "stream",
     "text": [
      "1\n",
      "5\n"
     ]
    }
   ],
   "source": [
    "x = 1\n",
    "if x < 3:\n",
    "    print(x)\n",
    "    x = x + 4\n",
    "    print(x)"
   ]
  },
  {
   "cell_type": "markdown",
   "id": "transparent-devon",
   "metadata": {},
   "source": [
    "---\n",
    "### Learn it"
   ]
  },
  {
   "cell_type": "markdown",
   "id": "enclosed-survey",
   "metadata": {},
   "source": [
    "if statements allow us to do something only under a specific condition.\n",
    "\n",
    "Standard format:"
   ]
  },
  {
   "cell_type": "code",
   "execution_count": null,
   "id": "religious-opportunity",
   "metadata": {},
   "outputs": [],
   "source": [
    "if <boolean expression>:\n",
    "    # Body runs only if boolean expression\n",
    "    # evaluates to True\n",
    "    ..."
   ]
  },
  {
   "cell_type": "markdown",
   "id": "brilliant-broad",
   "metadata": {},
   "source": [
    "Example:"
   ]
  },
  {
   "cell_type": "code",
   "execution_count": 2,
   "id": "vanilla-intensity",
   "metadata": {},
   "outputs": [
    {
     "name": "stdout",
     "output_type": "stream",
     "text": [
      "0\n",
      "3\n",
      "6\n",
      "9\n"
     ]
    }
   ],
   "source": [
    "for i in range(10):\n",
    "    if i % 3 == 0:\n",
    "        print(i)"
   ]
  },
  {
   "cell_type": "markdown",
   "id": "coastal-catalog",
   "metadata": {},
   "source": [
    "---\n",
    "\n",
    "if-else statements allow us to also specify what happens when the condition isn’t met.\n",
    "\n",
    "Standard format:"
   ]
  },
  {
   "cell_type": "code",
   "execution_count": null,
   "id": "fuzzy-championship",
   "metadata": {},
   "outputs": [],
   "source": [
    "if <Boolean expression>:\n",
    "    # Only run when expression\n",
    "    # evaluates to True\n",
    "    ...\n",
    "else:\n",
    "    # Only run when expression\n",
    "    # evaluates to False\n",
    "    ..."
   ]
  },
  {
   "cell_type": "markdown",
   "id": "equivalent-serve",
   "metadata": {},
   "source": [
    "Example:"
   ]
  },
  {
   "cell_type": "code",
   "execution_count": 3,
   "id": "tamil-procedure",
   "metadata": {},
   "outputs": [
    {
     "name": "stdout",
     "output_type": "stream",
     "text": [
      "0\n",
      "not a multiple of three\n",
      "not a multiple of three\n",
      "3\n",
      "not a multiple of three\n",
      "not a multiple of three\n",
      "6\n",
      "not a multiple of three\n",
      "not a multiple of three\n",
      "9\n"
     ]
    }
   ],
   "source": [
    "for i in range(10):\n",
    "    if i % 3 == 0:\n",
    "        print(i)\n",
    "    else: \n",
    "        print(\"not a multiple of three\")"
   ]
  },
  {
   "cell_type": "markdown",
   "id": "likely-petroleum",
   "metadata": {},
   "source": [
    "---\n",
    "\n",
    "An elif allows us to chain together conditional statements. (Only the first one where the condition is met will run.)\n",
    "\n",
    "Standard format:"
   ]
  },
  {
   "cell_type": "code",
   "execution_count": null,
   "id": "aerial-standard",
   "metadata": {},
   "outputs": [],
   "source": [
    "if <condition A>:\n",
    "    # Run when condition A is True\n",
    "    ...\n",
    "elif <condition B>:\n",
    "    # Run when condition A is False but\n",
    "    # condition B is True\n",
    "    ...\n",
    "else:\n",
    "    # Run when all previous conditions\n",
    "    # are False.\n",
    "    ..."
   ]
  },
  {
   "cell_type": "markdown",
   "id": "burning-austria",
   "metadata": {},
   "source": [
    "Example:"
   ]
  },
  {
   "cell_type": "code",
   "execution_count": 4,
   "id": "liable-earth",
   "metadata": {},
   "outputs": [
    {
     "name": "stdout",
     "output_type": "stream",
     "text": [
      "3 0\n",
      "2 2\n",
      "3 3\n",
      "2 4\n",
      "3 6\n",
      "2 8\n",
      "3 9\n"
     ]
    }
   ],
   "source": [
    "for i in range(10):\n",
    "    if i % 3 == 0:\n",
    "        print(\"3\",i)\n",
    "    elif i % 2 == 0: \n",
    "        print(\"2\",i)"
   ]
  },
  {
   "cell_type": "markdown",
   "id": "functional-fighter",
   "metadata": {},
   "source": [
    "---\n",
    "Which of the following statements is TRUE? **This is a poll question.**\n",
    "\n",
    "\n",
    "|||\n",
    "|---|---|\n",
    "|A.|Both “hi” and “bye” will always be printed.|\n",
    "|B.|Depending on the condition, it will print either ”hi” or “bye” (not both).|\n",
    "|C.|Depending on the condition, either nothing, “hi”, or “bye” will be printed.|\n",
    "|D.|We can’t say anything without knowing the actual condition.|"
   ]
  },
  {
   "cell_type": "code",
   "execution_count": 5,
   "id": "alone-advertiser",
   "metadata": {},
   "outputs": [
    {
     "ename": "SyntaxError",
     "evalue": "invalid syntax (3286298054.py, line 1)",
     "output_type": "error",
     "traceback": [
      "\u001b[0;36m  Cell \u001b[0;32mIn[5], line 1\u001b[0;36m\u001b[0m\n\u001b[0;31m    if ???:\u001b[0m\n\u001b[0m       ^\u001b[0m\n\u001b[0;31mSyntaxError\u001b[0m\u001b[0;31m:\u001b[0m invalid syntax\n"
     ]
    }
   ],
   "source": [
    "if ???:\n",
    "    print(\"hi\")\n",
    "else:\n",
    "    print(\"bye\")"
   ]
  },
  {
   "cell_type": "markdown",
   "id": "aging-classic",
   "metadata": {},
   "source": [
    "---\n",
    "**Discuss with a partner.** Which of the following functions correctly prints the letter grade?\n",
    " **This is a poll question.**\n",
    "\n",
    "|||\n",
    "|---|---|\n",
    "|A.|v_a|\n",
    "|B.|v_b|\n",
    "|C.|v_c|\n",
    "|D.|More than one.|\n",
    "|E.|None of the above.|"
   ]
  },
  {
   "cell_type": "code",
   "execution_count": 6,
   "id": "inclusive-gregory",
   "metadata": {},
   "outputs": [],
   "source": [
    "def v_a(grade):\n",
    "    \"\"\"\n",
    "    This function takes the numberic grade a student receives and prints the corresponding letter grade\n",
    "    \n",
    "    parameters: Grade (int or float): the numeric grade a student received\n",
    "    return: None\n",
    "    \"\"\"\n",
    "    if grade > 90:\n",
    "        print('A')\n",
    "    if grade > 80:\n",
    "        print('B')\n",
    "    if grade > 70:\n",
    "        print('C')\n",
    "    if grade > 60:\n",
    "        print('D')\n",
    "    else:\n",
    "        print('F')"
   ]
  },
  {
   "cell_type": "code",
   "execution_count": 7,
   "id": "nonprofit-above",
   "metadata": {},
   "outputs": [],
   "source": [
    "def v_b(grade):\n",
    "    if grade > 90:\n",
    "        print('A')\n",
    "    elif grade > 80:\n",
    "        print('B')\n",
    "    elif grade > 70:\n",
    "        print('C')\n",
    "    elif grade > 60:\n",
    "        print('D')\n",
    "    else:\n",
    "        print('F')"
   ]
  },
  {
   "cell_type": "code",
   "execution_count": null,
   "id": "demanding-venice",
   "metadata": {},
   "outputs": [],
   "source": [
    "def v_c(grade):\n",
    "    if grade > 90:\n",
    "        print('A')\n",
    "    else:\n",
    "        if grade > 80:\n",
    "            print('B')\n",
    "        elif grade > 70:\n",
    "            print('C')\n",
    "        elif grade > 60:\n",
    "            print('D')\n",
    "        else:\n",
    "            print('F')"
   ]
  },
  {
   "cell_type": "markdown",
   "id": "actual-stadium",
   "metadata": {},
   "source": [
    "v_c is an example of a nested conditional (although a pointless one)."
   ]
  },
  {
   "cell_type": "markdown",
   "id": "judicial-trademark",
   "metadata": {},
   "source": [
    "---\n",
    "How can conditionals be used within our functions and return statements?\n",
    "\n",
    "When will “woof” be printed? **This is a poll question.**\n",
    "\n",
    "\n",
    "|||\n",
    "|---|---|\n",
    "|A.|When x is positive|\n",
    "|B.|When x is 0 or negative.|\n",
    "|C.|Everytime|\n",
    "|D.|Never|"
   ]
  },
  {
   "cell_type": "code",
   "execution_count": 8,
   "id": "beginning-committee",
   "metadata": {},
   "outputs": [],
   "source": [
    "def mystery(x):\n",
    "    if x > 0:\n",
    "        return 1\n",
    "    else:\n",
    "        return 2\n",
    "\n",
    "    print(\"woof\")"
   ]
  },
  {
   "cell_type": "markdown",
   "id": "suitable-junction",
   "metadata": {},
   "source": [
    "---\n",
    "### Apply it"
   ]
  },
  {
   "cell_type": "markdown",
   "id": "elementary-modification",
   "metadata": {},
   "source": [
    "**In groups** How many times will \"moo\" and \"oink\" be printed in each of the following code snippets?"
   ]
  },
  {
   "cell_type": "code",
   "execution_count": 9,
   "id": "ignored-plastic",
   "metadata": {},
   "outputs": [
    {
     "name": "stdout",
     "output_type": "stream",
     "text": [
      "moo\n",
      "moo\n",
      "oink\n"
     ]
    }
   ],
   "source": [
    "for x in range(1, 6):\n",
    "    if (x % 2 == 0):\n",
    "        print(\"moo\")\n",
    "    elif (x > 3):\n",
    "        print(\"oink\")"
   ]
  },
  {
   "cell_type": "code",
   "execution_count": null,
   "id": "ceramic-making",
   "metadata": {},
   "outputs": [],
   "source": [
    "for x in range(1, 6):\n",
    "    if (x % 2 == 0):\n",
    "        print(\"moo\")\n",
    "    if (x > 3):\n",
    "        print(\"oink\")"
   ]
  },
  {
   "cell_type": "code",
   "execution_count": 10,
   "id": "inner-drilling",
   "metadata": {},
   "outputs": [
    {
     "name": "stdout",
     "output_type": "stream",
     "text": [
      "oink\n",
      "moo\n",
      "oink\n",
      "moo\n",
      "oink\n"
     ]
    }
   ],
   "source": [
    "for x in range(1, 6):\n",
    "    if (x % 2 == 0):\n",
    "        print(\"moo\")\n",
    "    elif (x % 2 != 0 or x > 3):\n",
    "        print(\"oink\")"
   ]
  },
  {
   "cell_type": "code",
   "execution_count": 11,
   "id": "guided-bolivia",
   "metadata": {},
   "outputs": [
    {
     "name": "stdout",
     "output_type": "stream",
     "text": [
      "moo\n",
      "moo\n",
      "oink\n"
     ]
    }
   ],
   "source": [
    "for x in range(1, 6):\n",
    "    if (x % 2 == 0):\n",
    "        print(\"moo\")\n",
    "    elif (x % 2 != 0 and x > 3):\n",
    "        print(\"oink\")"
   ]
  },
  {
   "cell_type": "code",
   "execution_count": null,
   "id": "3bd0ee91",
   "metadata": {},
   "outputs": [],
   "source": []
  }
 ],
 "metadata": {
  "kernelspec": {
   "display_name": "Python 3 (ipykernel)",
   "language": "python",
   "name": "python3"
  },
  "language_info": {
   "codemirror_mode": {
    "name": "ipython",
    "version": 3
   },
   "file_extension": ".py",
   "mimetype": "text/x-python",
   "name": "python",
   "nbconvert_exporter": "python",
   "pygments_lexer": "ipython3",
   "version": "3.11.5"
  }
 },
 "nbformat": 4,
 "nbformat_minor": 5
}
