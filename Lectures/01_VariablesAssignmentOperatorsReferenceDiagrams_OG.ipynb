{
 "cells": [
  {
   "cell_type": "markdown",
   "id": "athletic-child",
   "metadata": {},
   "source": [
    "# Variables, Assignments, Operators, and Reference Diagrams"
   ]
  },
  {
   "cell_type": "markdown",
   "id": "welsh-duplicate",
   "metadata": {},
   "source": [
    "In this unit, we will begin our discussion of the basic building blocks of python. These building blocks include variables and how we use them to access objects, basic mathematical operators, and how we can make sense of what is happening in our program."
   ]
  },
  {
   "cell_type": "markdown",
   "id": "latest-russian",
   "metadata": {
    "tags": []
   },
   "source": [
    "---\n",
    "## Learning objectives\n",
    "\n",
    "By the end of this unit, you should be able to…\n",
    "\n",
    "- Write python code in an interactive terminal using Visual Studio Code.\n",
    "- Apply operators to do mathematical operations.\n",
    "- Differentiate the = and == operators.\n",
    "- Illustrate a program through a reference diagram\n"
   ]
  },
  {
   "cell_type": "markdown",
   "id": "seasonal-apartment",
   "metadata": {},
   "source": [
    "---\n",
    "## Variables and Assignment"
   ]
  },
  {
   "cell_type": "markdown",
   "id": "wrong-draft",
   "metadata": {},
   "source": [
    "### Try it"
   ]
  },
  {
   "cell_type": "markdown",
   "id": "recovered-connection",
   "metadata": {},
   "source": [
    "**Group Discussion** What is the purpose of a variable in python?"
   ]
  },
  {
   "cell_type": "raw",
   "id": "blocked-senate",
   "metadata": {},
   "source": []
  },
  {
   "cell_type": "code",
   "execution_count": 4,
   "id": "6e19d3b2",
   "metadata": {
    "run_control": {
     "marked": false
    }
   },
   "outputs": [
    {
     "name": "stdout",
     "output_type": "stream",
     "text": [
      "30\n",
      "22\n"
     ]
    }
   ],
   "source": [
    "my_var=10\n",
    "my_var_2=20\n",
    "print(my_var+my_var_2)\n",
    "my_var=2\n",
    "print(my_var+my_var_2)\n"
   ]
  },
  {
   "cell_type": "markdown",
   "id": "helpful-curtis",
   "metadata": {},
   "source": [
    "---\n",
    "### Learn it"
   ]
  },
  {
   "cell_type": "markdown",
   "id": "regulated-ukraine",
   "metadata": {},
   "source": [
    "Python includes built-in types that are ready for immediate use.\n",
    "\n",
    "||||\n",
    "|---|---|---|\n",
    "|int|standard integers|5 6 24 -5|\n",
    "|float|decimal numbers|3.14 2.7 -0.2|\n",
    "|string|sequence of characters|\"I am here!\"|\n",
    "|boolean|True/False|True|"
   ]
  },
  {
   "cell_type": "markdown",
   "id": "caring-processing",
   "metadata": {},
   "source": [
    "You can use type(val) to find the type of the value in paratheses"
   ]
  },
  {
   "cell_type": "code",
   "execution_count": 9,
   "id": "3895a68b",
   "metadata": {
    "run_control": {
     "marked": false
    }
   },
   "outputs": [
    {
     "data": {
      "text/plain": [
       "bool"
      ]
     },
     "execution_count": 9,
     "metadata": {},
     "output_type": "execute_result"
    }
   ],
   "source": [
    "my_num=2\n",
    "my_num2=2.0\n",
    "my_str=\"hi\"\n",
    "my_boolean=False\n",
    "type(my_num)\n",
    "type(my_num2)\n",
    "type(my_str)\n",
    "type(my_boolean)"
   ]
  },
  {
   "cell_type": "code",
   "execution_count": 10,
   "id": "sublime-stationery",
   "metadata": {
    "run_control": {
     "marked": false
    }
   },
   "outputs": [
    {
     "data": {
      "text/plain": [
       "int"
      ]
     },
     "execution_count": 10,
     "metadata": {},
     "output_type": "execute_result"
    }
   ],
   "source": [
    "type(6)"
   ]
  },
  {
   "cell_type": "code",
   "execution_count": 11,
   "id": "athletic-remedy",
   "metadata": {
    "run_control": {
     "marked": false
    }
   },
   "outputs": [
    {
     "data": {
      "text/plain": [
       "float"
      ]
     },
     "execution_count": 11,
     "metadata": {},
     "output_type": "execute_result"
    }
   ],
   "source": [
    "type(3.2)"
   ]
  },
  {
   "cell_type": "code",
   "execution_count": 12,
   "id": "incorrect-shelf",
   "metadata": {
    "run_control": {
     "marked": false
    }
   },
   "outputs": [
    {
     "data": {
      "text/plain": [
       "bool"
      ]
     },
     "execution_count": 12,
     "metadata": {},
     "output_type": "execute_result"
    }
   ],
   "source": [
    "my_bool = True\n",
    "type(my_bool)"
   ]
  },
  {
   "cell_type": "code",
   "execution_count": 13,
   "id": "alternate-absence",
   "metadata": {
    "run_control": {
     "marked": false
    }
   },
   "outputs": [
    {
     "data": {
      "text/plain": [
       "str"
      ]
     },
     "execution_count": 13,
     "metadata": {},
     "output_type": "execute_result"
    }
   ],
   "source": [
    "type(\"happy\")"
   ]
  },
  {
   "cell_type": "markdown",
   "id": "proved-crash",
   "metadata": {},
   "source": [
    "---\n",
    "Which of these is a valid string? **This is a poll question**\n",
    "\n",
    "|||\n",
    "|---|---|\n",
    "|A.|'Trisha’s book is lost'|\n",
    "|B.|I heard him say, \"Trisha lost her book,\" to the teacher.|\n",
    "|C.|I heard him say, <br>\"Trisha’s book is lost,\" to the teacher.|\n",
    "|D.|'''Trisha’s book is lost'''|\n"
   ]
  },
  {
   "cell_type": "markdown",
   "id": "opened-fifth",
   "metadata": {},
   "source": [
    "---\n",
    "A variable is created when you first assign a value to it. The *left* side of the equals sign is always the variable name. The *right* side of the equals sign is always the value."
   ]
  },
  {
   "cell_type": "code",
   "execution_count": 7,
   "id": "natural-ancient",
   "metadata": {
    "run_control": {
     "marked": false
    }
   },
   "outputs": [],
   "source": [
    "# variable equals initial value\n",
    "num = 5\n",
    "text = \"happy\"\n",
    "pi = 3.14"
   ]
  },
  {
   "cell_type": "markdown",
   "id": "different-chart",
   "metadata": {},
   "source": [
    "---\n",
    "Assignment operator (=) changes the value to which the variable refers."
   ]
  },
  {
   "cell_type": "code",
   "execution_count": 8,
   "id": "corporate-footage",
   "metadata": {
    "run_control": {
     "marked": false
    }
   },
   "outputs": [
    {
     "data": {
      "text/plain": [
       "5"
      ]
     },
     "execution_count": 8,
     "metadata": {},
     "output_type": "execute_result"
    }
   ],
   "source": [
    "num"
   ]
  },
  {
   "cell_type": "code",
   "execution_count": 9,
   "id": "mysterious-facial",
   "metadata": {
    "run_control": {
     "marked": false
    }
   },
   "outputs": [],
   "source": [
    "num = 10"
   ]
  },
  {
   "cell_type": "code",
   "execution_count": 10,
   "id": "pretty-leeds",
   "metadata": {
    "run_control": {
     "marked": false
    }
   },
   "outputs": [
    {
     "data": {
      "text/plain": [
       "10"
      ]
     },
     "execution_count": 10,
     "metadata": {},
     "output_type": "execute_result"
    }
   ],
   "source": [
    "num"
   ]
  },
  {
   "cell_type": "markdown",
   "id": "ignored-burst",
   "metadata": {},
   "source": [
    "---\n",
    "### Apply it"
   ]
  },
  {
   "cell_type": "markdown",
   "id": "careful-lawrence",
   "metadata": {},
   "source": [
    "**In groups** What is printed when we execute the following code?"
   ]
  },
  {
   "cell_type": "code",
   "execution_count": 11,
   "id": "trying-hazard",
   "metadata": {
    "run_control": {
     "marked": false
    }
   },
   "outputs": [
    {
     "name": "stdout",
     "output_type": "stream",
     "text": [
      "4\n"
     ]
    }
   ],
   "source": [
    "x = 3\n",
    "y = 2\n",
    "x = 4\n",
    "y = x\n",
    "print(y)"
   ]
  },
  {
   "cell_type": "markdown",
   "id": "color-fairy",
   "metadata": {},
   "source": [
    "---\n",
    "## Operators and Reference Diagrams"
   ]
  },
  {
   "cell_type": "markdown",
   "id": "divine-albuquerque",
   "metadata": {},
   "source": [
    "### Try it"
   ]
  },
  {
   "cell_type": "markdown",
   "id": "distinct-telephone",
   "metadata": {},
   "source": [
    "What would be assigned to x? **This is a poll question**\n",
    "\n",
    "x = 6 + 4 / 2\n",
    "\n",
    "|||\n",
    "|---|---|\n",
    "|A.|5.0|\n",
    "|B.|8.0|\n",
    "|C.|10.0|\n",
    "|D.|6.0|\n",
    "|E.|It would error.|"
   ]
  },
  {
   "cell_type": "code",
   "execution_count": 14,
   "id": "sharing-joyce",
   "metadata": {
    "run_control": {
     "marked": false
    }
   },
   "outputs": [
    {
     "name": "stdout",
     "output_type": "stream",
     "text": [
      "8.0\n"
     ]
    }
   ],
   "source": [
    "x = 6 + 4 / 2\n",
    "print(x)"
   ]
  },
  {
   "cell_type": "markdown",
   "id": "canadian-interaction",
   "metadata": {},
   "source": [
    "---\n",
    "### Learn it"
   ]
  },
  {
   "cell_type": "markdown",
   "id": "special-harmony",
   "metadata": {},
   "source": [
    "The right side of an assignment can be an expression that uses operators.\n",
    "\n",
    "n = (20 + 5) // (3 * 2)\n",
    "m = 4 < 3  # m refers to False\n",
    "p = n > 4  # what is p?\n",
    "\n",
    "\n",
    "Basic Operators for Numbers:\n",
    "- Evaluate to a number: +, -, *, **, /, //\n",
    "- Evaluate to a Boolean: <, >, <=, >=, ==\n"
   ]
  },
  {
   "cell_type": "markdown",
   "id": "ff886227",
   "metadata": {},
   "source": [
    " \n"
   ]
  },
  {
   "cell_type": "code",
   "execution_count": 26,
   "id": "e54913bf",
   "metadata": {
    "run_control": {
     "marked": false
    }
   },
   "outputs": [
    {
     "name": "stdout",
     "output_type": "stream",
     "text": [
      "False\n"
     ]
    }
   ],
   "source": [
    "n = (20+5)//(3*2)\n",
    "m = 4<3\n",
    "p = n>4\n",
    "print(p)"
   ]
  },
  {
   "cell_type": "markdown",
   "id": "arbitrary-portfolio",
   "metadata": {},
   "source": [
    "---\n",
    "What is printed when we execute the following code? **This is a poll question**\n",
    "\n",
    "\n",
    "|||\n",
    "|---|---|\n",
    "|A.|3<br>5|\n",
    "|B.|True<br>5|\n",
    "|C.|3<br>False|\n",
    "|D.|True<br>False|\n",
    "|E.|None of the above.|"
   ]
  },
  {
   "cell_type": "code",
   "execution_count": 22,
   "id": "4513d9d0",
   "metadata": {
    "run_control": {
     "marked": false
    }
   },
   "outputs": [
    {
     "data": {
      "text/plain": [
       "8"
      ]
     },
     "execution_count": 22,
     "metadata": {},
     "output_type": "execute_result"
    }
   ],
   "source": [
    "2**3"
   ]
  },
  {
   "cell_type": "code",
   "execution_count": 23,
   "id": "71d53591",
   "metadata": {
    "run_control": {
     "marked": false
    }
   },
   "outputs": [
    {
     "data": {
      "text/plain": [
       "2.5"
      ]
     },
     "execution_count": 23,
     "metadata": {},
     "output_type": "execute_result"
    }
   ],
   "source": [
    "5/2"
   ]
  },
  {
   "cell_type": "code",
   "execution_count": 24,
   "id": "91040f8a",
   "metadata": {
    "run_control": {
     "marked": false
    }
   },
   "outputs": [
    {
     "data": {
      "text/plain": [
       "2"
      ]
     },
     "execution_count": 24,
     "metadata": {},
     "output_type": "execute_result"
    }
   ],
   "source": [
    "5//2"
   ]
  },
  {
   "cell_type": "code",
   "execution_count": null,
   "id": "453a3ddc",
   "metadata": {},
   "outputs": [],
   "source": []
  },
  {
   "cell_type": "markdown",
   "id": "982e0b37",
   "metadata": {},
   "source": []
  },
  {
   "cell_type": "markdown",
   "id": "7ff03a7d",
   "metadata": {},
   "source": []
  },
  {
   "cell_type": "code",
   "execution_count": 25,
   "id": "internal-teacher",
   "metadata": {
    "run_control": {
     "marked": false
    }
   },
   "outputs": [
    {
     "name": "stdout",
     "output_type": "stream",
     "text": [
      "True\n",
      "5\n"
     ]
    }
   ],
   "source": [
    "x = 3\n",
    "y = 2\n",
    "print(x == 3)\n",
    "z = x + y\n",
    "print(z)"
   ]
  },
  {
   "cell_type": "markdown",
   "id": "cross-youth",
   "metadata": {},
   "source": [
    "---\n",
    "Variables contain a reference to an object.\n",
    "\n",
    "Creating an object reserves space for a reference to an object of that type in memory.\n"
   ]
  },
  {
   "cell_type": "code",
   "execution_count": null,
   "id": "characteristic-arbor",
   "metadata": {
    "run_control": {
     "marked": false
    }
   },
   "outputs": [],
   "source": [
    "# name, object\n",
    "foo = \"I <3 CS\""
   ]
  },
  {
   "cell_type": "markdown",
   "id": "entitled-concrete",
   "metadata": {},
   "source": [
    "We can help to make sense of the code through a reference diagram"
   ]
  },
  {
   "cell_type": "markdown",
   "id": "surprised-isaac",
   "metadata": {},
   "source": [
    "---\n",
    "Let's make a reference diagram for the following code!\n",
    "\n",
    "x = 10 // 3\n",
    "\n",
    "y = x\n",
    "\n",
    "print(y == 3)\n",
    "\n",
    "x = 4\n",
    "\n",
    "print(y == 3)\n",
    "\n"
   ]
  },
  {
   "cell_type": "markdown",
   "id": "introductory-universe",
   "metadata": {},
   "source": [
    "---\n",
    "### Apply it\n",
    "\n",
    "**In groups** Make a reference diagram for the following code.\n",
    "\n",
    "x = 6\n",
    "\n",
    "y = 9\n",
    "\n",
    "print(y)\n",
    "\n",
    "x = x/y\n",
    "\n",
    "print(x)"
   ]
  }
 ],
 "metadata": {
  "kernelspec": {
   "display_name": "Python 3 (ipykernel)",
   "language": "python",
   "name": "python3"
  },
  "language_info": {
   "codemirror_mode": {
    "name": "ipython",
    "version": 3
   },
   "file_extension": ".py",
   "mimetype": "text/x-python",
   "name": "python",
   "nbconvert_exporter": "python",
   "pygments_lexer": "ipython3",
   "version": "3.11.5"
  }
 },
 "nbformat": 4,
 "nbformat_minor": 5
}
