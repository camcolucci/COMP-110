{
 "cells": [
  {
   "cell_type": "markdown",
   "id": "tropical-adapter",
   "metadata": {},
   "source": [
    "# Functions"
   ]
  },
  {
   "cell_type": "markdown",
   "id": "assumed-signature",
   "metadata": {},
   "source": [
    "In this unit, we will discussion functions and how to use local variables, functional composition, and accumulator patterns in functions!"
   ]
  },
  {
   "cell_type": "markdown",
   "id": "generic-recording",
   "metadata": {},
   "source": [
    "---\n",
    "## Learning objectives\n",
    "\n",
    "By the end of this unit, you should be able to…\n",
    "\n",
    "- Write a function in python\n",
    "- Call a function in python\n",
    "- Compare fruitful and non-fruitful functions\n",
    "- Differentiate between local and global namespace\n",
    "- Evaluate code with a shadow variable\n",
    "- Create a function using an accumulator pattern\n",
    "- Evaluate a function using an accumulator pattern\n",
    "- Create a function that calls other functions"
   ]
  },
  {
   "cell_type": "markdown",
   "id": "instant-network",
   "metadata": {},
   "source": [
    "---\n",
    "## Function Basics"
   ]
  },
  {
   "cell_type": "markdown",
   "id": "marked-precipitation",
   "metadata": {
    "tags": []
   },
   "source": [
    "### Try it"
   ]
  },
  {
   "cell_type": "markdown",
   "id": "sufficient-mount",
   "metadata": {},
   "source": [
    "What’s wrong with this function to make the turtle draw a square? Choose all that apply. **This is a poll question.**\n",
    "\n",
    "|||\n",
    "|---|---|\n",
    "|A.|Indentation is wrong|\n",
    "|B.|Parameter is used incorrectly|\n",
    "|C.|left should be right|\n",
    "|D.|Use of bowser is incorrect|"
   ]
  },
  {
   "cell_type": "code",
   "execution_count": 1,
   "id": "spare-machinery",
   "metadata": {},
   "outputs": [],
   "source": [
    "import turtle\n",
    "bowser = turtle.Turtle()\n",
    "def jennys_square(size):\n",
    "    #The function draws a square, it takes the size as the parameter which can be an int or a float num\n",
    "    for i in range(4):\n",
    "        bowser.forward(size)\n",
    "        bowser.left(90)"
   ]
  },
  {
   "cell_type": "markdown",
   "id": "packed-workstation",
   "metadata": {},
   "source": [
    "---\n",
    "### Learn it"
   ]
  },
  {
   "cell_type": "markdown",
   "id": "static-worse",
   "metadata": {},
   "source": [
    "A function is an implementation of an algorithm.\n",
    "\n",
    "- Compared to methods…\n",
    "    - Functions are also actions that we can perform\n",
    "    - Functions are not tied to an object/class\n",
    "- Functions provide abstractions, making our programming tasks easier\n",
    "\n",
    "Python makes it easy to create new functions.\n",
    "\n",
    "- Functions are like contracts\n",
    "    - You: Call function and give it necessary data\n",
    "    - Function: Performs an action and possibly returns some data to you\n"
   ]
  },
  {
   "cell_type": "code",
   "execution_count": null,
   "id": "endangered-crime",
   "metadata": {},
   "outputs": [],
   "source": [
    "def draw_L(my_turtle, size):\n",
    "    \"\"\"Makes a turtle draw an L shape.\"\"\"\n",
    "    \n",
    "    # Function body goes here…\n",
    "    # Indentation MUST be consistent."
   ]
  },
  {
   "cell_type": "markdown",
   "id": "acting-florida",
   "metadata": {},
   "source": [
    "---\n",
    "Every function we write should have a docstring comment at the beginning.\n",
    "\n",
    "**Why?**"
   ]
  },
  {
   "cell_type": "raw",
   "id": "appointed-battlefield",
   "metadata": {},
   "source": []
  },
  {
   "cell_type": "code",
   "execution_count": null,
   "id": "forty-necessity",
   "metadata": {},
   "outputs": [],
   "source": [
    "def my_function(my_turtle, size):\n",
    "    \"\"\"\n",
    "    Short description of what the\n",
    "    function does and what the parameters\n",
    "    mean and what it returns.\n",
    "    \"\"\"\n",
    "\n",
    "    my_turtle.forward(100)"
   ]
  },
  {
   "cell_type": "code",
   "execution_count": null,
   "id": "straight-harassment",
   "metadata": {},
   "outputs": [],
   "source": [
    "help(my_function)"
   ]
  },
  {
   "cell_type": "markdown",
   "id": "steady-cursor",
   "metadata": {},
   "source": [
    "---\n",
    "Remember our function from above? What is the correct way to call this function? **This is a poll question.**\n",
    "\n",
    "|||\n",
    "|---|---|\n",
    "|A.|t = turtle.Turtle()<br>t = jennys_square(50)|\n",
    "|B.|t = turtle.Turtle()<br>jennys_square()|\n",
    "|C.|t = turtle.Turtle()<br>t.jennys_square(t, 50)|\n",
    "|D.|t = turtle.Turtle()<br>Jennys_Square(t, 50)|\n",
    "|E.|None of the above.|"
   ]
  },
  {
   "cell_type": "code",
   "execution_count": null,
   "id": "wired-specialist",
   "metadata": {},
   "outputs": [],
   "source": [
    "def jennys_square(bowser, size):\n",
    "    for i in range(4):\n",
    "        bowser.forward(size)\n",
    "        bowser.left(90)"
   ]
  },
  {
   "cell_type": "markdown",
   "id": "social-marsh",
   "metadata": {},
   "source": [
    "---\n",
    "### Apply it"
   ]
  },
  {
   "cell_type": "markdown",
   "id": "bridal-europe",
   "metadata": {},
   "source": [
    "**In groups** Correct the errors in the following code."
   ]
  },
  {
   "cell_type": "code",
   "execution_count": null,
   "id": "rolled-commons",
   "metadata": {},
   "outputs": [],
   "source": [
    "import turtle\n",
    "def draw_triangle(turt, 200):\n",
    "    for i in [1,2,3,4]:\n",
    "        turt.forward(size)\n",
    "        turt.right(120)\n",
    "\n",
    "draw_triangle(turt, 100)"
   ]
  },
  {
   "cell_type": "markdown",
   "id": "miniature-party",
   "metadata": {},
   "source": [
    "---\n",
    "## Function Return Values"
   ]
  },
  {
   "cell_type": "markdown",
   "id": "numeric-canada",
   "metadata": {
    "tags": []
   },
   "source": [
    "### Try it"
   ]
  },
  {
   "cell_type": "markdown",
   "id": "ambient-somalia",
   "metadata": {},
   "source": [
    "Are the following two functions equivalent? (By equivalent we mean that we can substitute one for the other in our code and it would work the same.) **This is a poll question.**\n",
    "\n",
    "|||\n",
    "|---|---|\n",
    "|A.|Yes|\n",
    "|B.|No|\n",
    "|C.|Maybe?|"
   ]
  },
  {
   "cell_type": "code",
   "execution_count": null,
   "id": "local-tuner",
   "metadata": {},
   "outputs": [],
   "source": [
    "def square_v1(x):\n",
    "    squared = x * x\n",
    "    return squared"
   ]
  },
  {
   "cell_type": "code",
   "execution_count": null,
   "id": "expanded-gamma",
   "metadata": {},
   "outputs": [],
   "source": [
    "def square_v2(x):\n",
    "    squared = x ** 2\n",
    "    print(squared)"
   ]
  },
  {
   "cell_type": "markdown",
   "id": "worst-display",
   "metadata": {},
   "source": [
    "---\n",
    "### Learn it"
   ]
  },
  {
   "cell_type": "markdown",
   "id": "increased-channels",
   "metadata": {},
   "source": [
    "Returning != printing.\n",
    "\n",
    "A fruitful function is one that returns an object (which you could save to a variable!)\n",
    "\n",
    "A non-fruitful function does not return anything (it actually returns None).\n"
   ]
  },
  {
   "cell_type": "code",
   "execution_count": null,
   "id": "spanish-ideal",
   "metadata": {},
   "outputs": [],
   "source": [
    "print(square_v1(10))"
   ]
  },
  {
   "cell_type": "code",
   "execution_count": null,
   "id": "taken-superintendent",
   "metadata": {},
   "outputs": [],
   "source": [
    "print(square_v2(10))"
   ]
  },
  {
   "cell_type": "markdown",
   "id": "departmental-wages",
   "metadata": {},
   "source": [
    "---\n",
    "Which function could you need to use to print out only 12 in the following code? Select all that work. **This is a poll question.**\n",
    "\n",
    "|||\n",
    "|---|---|\n",
    "|A.|1|\n",
    "|B.|2|\n",
    "|C.|3|\n",
    "|D.|4|"
   ]
  },
  {
   "cell_type": "code",
   "execution_count": null,
   "id": "virgin-berry",
   "metadata": {},
   "outputs": [],
   "source": [
    "def multThree():\n",
    "     print(4*3)"
   ]
  },
  {
   "cell_type": "code",
   "execution_count": null,
   "id": "funny-holmes",
   "metadata": {},
   "outputs": [],
   "source": [
    "def multThree(num):\n",
    "     print(num*3)"
   ]
  },
  {
   "cell_type": "code",
   "execution_count": null,
   "id": "satisfactory-bridge",
   "metadata": {},
   "outputs": [],
   "source": [
    "def multThree():\n",
    "     return 4*3"
   ]
  },
  {
   "cell_type": "code",
   "execution_count": null,
   "id": "confident-luxembourg",
   "metadata": {},
   "outputs": [],
   "source": [
    "def multThree(num):\n",
    "     return num*3"
   ]
  },
  {
   "cell_type": "code",
   "execution_count": null,
   "id": "rolled-experience",
   "metadata": {},
   "outputs": [],
   "source": [
    "x = 4\n",
    "y = multThree(x)\n",
    "print(y)"
   ]
  },
  {
   "cell_type": "markdown",
   "id": "bright-batch",
   "metadata": {},
   "source": [
    "---\n",
    "### Apply it"
   ]
  },
  {
   "cell_type": "markdown",
   "id": "surgical-constitution",
   "metadata": {},
   "source": [
    "**In groups** What’s printed by the following code?"
   ]
  },
  {
   "cell_type": "code",
   "execution_count": null,
   "id": "oriented-liberal",
   "metadata": {},
   "outputs": [],
   "source": [
    "def square_v1(x):\n",
    "    squared = x * x\n",
    "    return squared\n",
    "\n",
    "def square_v2(x):\n",
    "    squared = x ** 2\n",
    "    print(squared)\n",
    "\n",
    "n = 3\n",
    "n_s1 = square_v1(n)\n",
    "n_s2 = square_v2(n+1)\n",
    "print(n_s2)\n",
    "print(n_s1)\n"
   ]
  },
  {
   "cell_type": "markdown",
   "id": "governing-playback",
   "metadata": {},
   "source": [
    "---\n",
    "## Local Variables and variable lifetimes\n",
    "\n",
    "### Try it"
   ]
  },
  {
   "cell_type": "markdown",
   "id": "revised-visibility",
   "metadata": {},
   "source": [
    "What is printed while running the following code? **This is a poll question.**\n",
    "\n",
    "\n",
    "|||\n",
    "|---|---|\n",
    "|A.|3|\n",
    "|B.|7|\n",
    "|C.|3<br>7|\n",
    "|D.|Nothing: There is an error!|"
   ]
  },
  {
   "cell_type": "code",
   "execution_count": null,
   "id": "pacific-adams",
   "metadata": {},
   "outputs": [],
   "source": [
    "def boop(n):\n",
    "    n = 7\n",
    "\n",
    "x = 3\n",
    "boop(x)\n",
    "print(x)"
   ]
  },
  {
   "cell_type": "markdown",
   "id": "automated-wheel",
   "metadata": {},
   "source": [
    "---\n",
    "### Learn it\n",
    "\n",
    "Parameters and variables created inside a function are local and have a limited lifetime.\n",
    "\n",
    "Part of this is the function's parameters. When you call a function, the function's parameters are assigned to what you give.\n"
   ]
  },
  {
   "cell_type": "code",
   "execution_count": null,
   "id": "electrical-solid",
   "metadata": {},
   "outputs": [],
   "source": [
    "import turtle\n",
    "def draw_triangle(turt, size):\n",
    "    '''Makes given turtle draw equilateral \n",
    "       triangle of given size.'''\n",
    "    for i in [1,2,3,4]:\n",
    "        turt.forward(size)\n",
    "        turt.right(120)\n",
    "\n",
    "# call our new function\n",
    "t = turtle.Turtle()\n",
    "draw_triangle(t, 100)\n",
    "q = turtle.Turtle()\n",
    "draw_triangle(q, 100) # turt = q, size = 100\n",
    "draw_triangle(q, 50) # turt = q, size = 50"
   ]
  },
  {
   "cell_type": "markdown",
   "id": "numeric-tradition",
   "metadata": {},
   "source": [
    "Let's draw a reference diagram!"
   ]
  },
  {
   "cell_type": "markdown",
   "id": "moderate-niger",
   "metadata": {},
   "source": [
    "---\n",
    "\n",
    "When you have variable names that are in both the global name space and the local name space, you have shadow variables."
   ]
  },
  {
   "cell_type": "code",
   "execution_count": null,
   "id": "detailed-paraguay",
   "metadata": {},
   "outputs": [],
   "source": [
    "def nerp(x, y):\n",
    "    print(x)\n",
    "    print(y)\n",
    "\n",
    "x = 10\n",
    "y = 20\n",
    "nerp(y, x)"
   ]
  },
  {
   "cell_type": "markdown",
   "id": "metric-calculator",
   "metadata": {},
   "source": [
    "The x and y parameters are shadow variables, which should be avoided.\n",
    "\n",
    "What do you think the code above will print? **This is a poll question.**\n",
    "\n",
    "|||\n",
    "|---|---|\n",
    "|A.|10<br>20|\n",
    "|B.|20<br>10|\n",
    "|C.|Something else.|\n",
    "|D.|Nothing: There is an error!|"
   ]
  },
  {
   "cell_type": "markdown",
   "id": "french-puzzle",
   "metadata": {},
   "source": [
    "What if we change the code to the below code? **This is a poll question.**"
   ]
  },
  {
   "cell_type": "code",
   "execution_count": null,
   "id": "czech-aruba",
   "metadata": {},
   "outputs": [],
   "source": [
    "def nerp(i, j):\n",
    "    print(x)\n",
    "    print(y)\n",
    "\n",
    "x = 10\n",
    "y = 20\n",
    "nerp(y, x)"
   ]
  },
  {
   "cell_type": "markdown",
   "id": "operating-impact",
   "metadata": {},
   "source": [
    "---\n",
    "\n",
    "### Apply it\n",
    "\n",
    "**Discuss in groups.**\n",
    "\n",
    "What is printed while running the following code? Make a reference diagram to check your work."
   ]
  },
  {
   "cell_type": "code",
   "execution_count": null,
   "id": "southwest-productivity",
   "metadata": {},
   "outputs": [],
   "source": [
    "def scoop(n):\n",
    "    r = \"crystal\"\n",
    "    print(r)\n",
    "\n",
    "s = \"tiger\"\n",
    "scoop(s)\n",
    "print(r)"
   ]
  },
  {
   "cell_type": "markdown",
   "id": "oriental-killer",
   "metadata": {},
   "source": [
    "## Accumulator pattern\n",
    "\n",
    "### Try it\n"
   ]
  },
  {
   "cell_type": "markdown",
   "id": "developing-aging",
   "metadata": {},
   "source": [
    "**Group discussion** What is printed by the following code?"
   ]
  },
  {
   "cell_type": "code",
   "execution_count": null,
   "id": "abstract-river",
   "metadata": {},
   "outputs": [],
   "source": [
    "foo = 1\n",
    "\n",
    "for i in [5, 9, 2, 7, -6]:\n",
    "    foo = foo * i\n",
    "\n",
    "print(foo)"
   ]
  },
  {
   "cell_type": "markdown",
   "id": "joint-zealand",
   "metadata": {},
   "source": [
    "---\n",
    "\n",
    "### Learn it\n",
    "\n",
    "The above is an example of an accumulator pattern.\n",
    "\n",
    "The accumulator pattern is widely applicable in programming.\n",
    "\n",
    "1. Initialize “accumulator” variable.\n",
    "1. Loop through sequence, updating accumulator as you iterate."
   ]
  },
  {
   "cell_type": "markdown",
   "id": "delayed-deposit",
   "metadata": {},
   "source": [
    "---\n",
    "\n",
    "This function should calculate 1x2x3x...xn. How many things are wrong? **This is a poll question.**\n",
    "\n",
    "- Placement of total = 0\n",
    "- Initial value of total\n",
    "- range(n)\n",
    "- total = total * n\n",
    "- Placement of return total\n",
    "\n",
    "|||\n",
    "|---|---|\n",
    "|A.|1|\n",
    "|B.|2|\n",
    "|C.|3|\n",
    "|D.|4|\n",
    "|E.|5|"
   ]
  },
  {
   "cell_type": "code",
   "execution_count": null,
   "id": "terminal-patent",
   "metadata": {},
   "outputs": [],
   "source": [
    "def product(n):\n",
    "    total = 0\n",
    "    for i in range(n):\n",
    "        total = total * n\n",
    "        return total"
   ]
  },
  {
   "cell_type": "markdown",
   "id": "cellular-regression",
   "metadata": {},
   "source": [
    "---\n",
    "\n",
    "### Apply it\n",
    "\n",
    "**Discuss in groups** Does this code follow the accumulator pattern and what does it print?\n"
   ]
  },
  {
   "cell_type": "code",
   "execution_count": null,
   "id": "diagnostic-handbook",
   "metadata": {},
   "outputs": [],
   "source": [
    "found = 0\n",
    "\n",
    "for i in [5, 9, 2, 7, -6]:\n",
    "    found = found + 1\n",
    "\n",
    "print(found)\n"
   ]
  },
  {
   "cell_type": "markdown",
   "id": "gentle-israeli",
   "metadata": {},
   "source": [
    "---\n",
    "\n",
    "## Functional Composition\n",
    "\n",
    "### Try it\n",
    "\n"
   ]
  },
  {
   "cell_type": "markdown",
   "id": "laughing-possession",
   "metadata": {},
   "source": [
    "What is printed when running this code? **This is a poll question.**\n",
    "\n",
    "|||\n",
    "|---|---|\n",
    "|A.|5|\n",
    "|B.|8|\n",
    "|C.|9|\n",
    "|D.|10|\n",
    "|E.|None of the above|"
   ]
  },
  {
   "cell_type": "code",
   "execution_count": null,
   "id": "weighted-convention",
   "metadata": {},
   "outputs": [],
   "source": [
    "def foo(x):\n",
    "    return x - 1 \n",
    "\n",
    "def bar(y):\n",
    "    z = foo(y) * 2\n",
    "    return z\n",
    "\n",
    "n = 5\n",
    "q = bar(n)\n",
    "print(q)\n"
   ]
  },
  {
   "cell_type": "markdown",
   "id": "excellent-measure",
   "metadata": {},
   "source": [
    "---\n",
    "\n",
    "### Learn it"
   ]
  },
  {
   "cell_type": "markdown",
   "id": "complimentary-affair",
   "metadata": {},
   "source": [
    "Functions call other functions to help them do their job. This is composition.\n",
    "\n",
    "We call abs and range for our function below."
   ]
  },
  {
   "cell_type": "code",
   "execution_count": null,
   "id": "lightweight-congo",
   "metadata": {},
   "outputs": [],
   "source": [
    "def mysterious(begin,end):\n",
    "    first = begin\n",
    "    val = abs(first)\n",
    "\n",
    "    for i in range(begin+1, end):\n",
    "        left = abs(i)\n",
    "        val = left * val\n",
    "\n",
    "    return val"
   ]
  },
  {
   "cell_type": "markdown",
   "id": "working-perfume",
   "metadata": {},
   "source": [
    "---\n",
    "\n",
    "### Apply it\n",
    "\n",
    "Draw a reference diagram for the follwoing code. What does it print?"
   ]
  },
  {
   "cell_type": "code",
   "execution_count": null,
   "id": "efficient-jaguar",
   "metadata": {},
   "outputs": [],
   "source": [
    "def meow(x, y):\n",
    "    return x - y \n",
    "\n",
    "def arf(y, d):\n",
    "    z = meow(y, 2) * d \n",
    "    return z\n",
    "\n",
    "n = 7\n",
    "q = arf(n, 3)\n",
    "print(q)\n"
   ]
  }
 ],
 "metadata": {
  "kernelspec": {
   "display_name": "Python 3 (ipykernel)",
   "language": "python",
   "name": "python3"
  },
  "language_info": {
   "codemirror_mode": {
    "name": "ipython",
    "version": 3
   },
   "file_extension": ".py",
   "mimetype": "text/x-python",
   "name": "python",
   "nbconvert_exporter": "python",
   "pygments_lexer": "ipython3",
   "version": "3.12.5"
  }
 },
 "nbformat": 4,
 "nbformat_minor": 5
}
