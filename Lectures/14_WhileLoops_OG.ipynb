{
 "cells": [
  {
   "cell_type": "markdown",
   "id": "employed-granny",
   "metadata": {},
   "source": [
    "# While Loops"
   ]
  },
  {
   "cell_type": "markdown",
   "id": "iraqi-southwest",
   "metadata": {},
   "source": [
    "In this unit, we will discuss while loops and how they contrast with for loops. We will continue our discussion of while loops for user validation and by applying them to different problems."
   ]
  },
  {
   "cell_type": "markdown",
   "id": "tough-antique",
   "metadata": {},
   "source": [
    "---\n",
    "## Learning objectives\n",
    "\n",
    "By the end of this unit, you should be able to…\n",
    "\n",
    "- Create a while loop to iterate through code\n",
    "- Read and write code using while loops\n",
    "- Write code to validate user input using a while loop\n",
    "- Write code to read a file using a while loop"
   ]
  },
  {
   "cell_type": "markdown",
   "id": "experienced-criterion",
   "metadata": {},
   "source": [
    "---\n",
    "## While Loop Basics"
   ]
  },
  {
   "cell_type": "markdown",
   "id": "cosmetic-dispatch",
   "metadata": {},
   "source": [
    "### Try it"
   ]
  },
  {
   "cell_type": "markdown",
   "id": "conditional-trailer",
   "metadata": {},
   "source": [
    "How many numbers will be printed from each of the loops?"
   ]
  },
  {
   "cell_type": "code",
   "execution_count": null,
   "id": "golden-amino",
   "metadata": {},
   "outputs": [],
   "source": [
    "import random\n",
    "\n",
    "for i in range(10):\n",
    "    print(random.random())"
   ]
  },
  {
   "cell_type": "code",
   "execution_count": null,
   "id": "according-surgeon",
   "metadata": {},
   "outputs": [],
   "source": [
    "num = random.random()\n",
    "while num < 0.75:\n",
    "    print(num)\n",
    "    num = random.random()"
   ]
  },
  {
   "cell_type": "markdown",
   "id": "capable-reward",
   "metadata": {},
   "source": [
    "---\n",
    "**Group Discussion** What is some part of your life that would require a while loop to implement, rather than just a for loop?"
   ]
  },
  {
   "cell_type": "raw",
   "id": "neural-secret",
   "metadata": {},
   "source": []
  },
  {
   "cell_type": "markdown",
   "id": "steady-thanks",
   "metadata": {},
   "source": [
    "---\n",
    "### Learn it"
   ]
  },
  {
   "cell_type": "markdown",
   "id": "assumed-restaurant",
   "metadata": {},
   "source": [
    "while statements allow us iterate an unknown number of times."
   ]
  },
  {
   "cell_type": "code",
   "execution_count": null,
   "id": "creative-israel",
   "metadata": {},
   "outputs": [],
   "source": [
    "while <boolean expression>:\n",
    "    # Body runs until Boolean expression\n",
    "    # evaluates to False\n",
    "    ..."
   ]
  },
  {
   "cell_type": "markdown",
   "id": "continuous-stockholm",
   "metadata": {},
   "source": [
    "What that means in practice is you will usually have some variable initialized outside of the while loop that you must update each time you go through the loop"
   ]
  },
  {
   "cell_type": "code",
   "execution_count": null,
   "id": "married-chassis",
   "metadata": {},
   "outputs": [],
   "source": [
    "i = 0\n",
    "while i < 10:\n",
    "    print(i)\n",
    "    i += 1"
   ]
  },
  {
   "cell_type": "markdown",
   "id": "straight-duration",
   "metadata": {},
   "source": [
    "---\n",
    "What would have happened in the example above if we removed the update to num?"
   ]
  },
  {
   "cell_type": "code",
   "execution_count": null,
   "id": "molecular-ceiling",
   "metadata": {},
   "outputs": [],
   "source": [
    "num = random.random()\n",
    "while num < 0.75:\n",
    "    print(num)\n",
    "    #num = random.random()"
   ]
  },
  {
   "cell_type": "markdown",
   "id": "hired-auditor",
   "metadata": {},
   "source": []
  },
  {
   "cell_type": "markdown",
   "id": "fantastic-preview",
   "metadata": {},
   "source": [
    "---\n",
    "What is printed while running this code? **This is a poll question**\n",
    "\n",
    "|||\n",
    "|---|---|\n",
    "|A.|65|\n",
    "|B.|654|\n",
    "|C.|5|\n",
    "|D.|6 5|\n",
    "|E.|6 5 4|"
   ]
  },
  {
   "cell_type": "code",
   "execution_count": null,
   "id": "flexible-twenty",
   "metadata": {},
   "outputs": [],
   "source": [
    "x = 6\n",
    "\n",
    "s = \"\"\n",
    "while x > 4 or x % 2 == 0:\n",
    "    s = s + str(x)\n",
    "    x = x - 1\n",
    "\n",
    "print(s)"
   ]
  },
  {
   "cell_type": "markdown",
   "id": "frequent-muscle",
   "metadata": {},
   "source": [
    "---\n",
    "### Apply it"
   ]
  },
  {
   "cell_type": "markdown",
   "id": "prospective-transport",
   "metadata": {},
   "source": [
    "**In groups** For the following three inputs to the jumpy function, how many times is wee printed?"
   ]
  },
  {
   "cell_type": "code",
   "execution_count": null,
   "id": "automated-rogers",
   "metadata": {},
   "outputs": [],
   "source": [
    "def jumpy(my_list)\n",
    "    i = 0\n",
    "    while 0 <= i < len(my_list):\n",
    "        print(\"wee!🐷\")\n",
    "        i = my_list[i]"
   ]
  },
  {
   "cell_type": "code",
   "execution_count": null,
   "id": "stone-friendly",
   "metadata": {},
   "outputs": [],
   "source": [
    "mario = [1, 4, 2, 6, 3, 9]\n",
    "jumpy(mario)"
   ]
  },
  {
   "cell_type": "code",
   "execution_count": null,
   "id": "confirmed-parallel",
   "metadata": {},
   "outputs": [],
   "source": [
    "frog = [3, -7, 2, 5, 3, -2]\n",
    "jumpy(frog)"
   ]
  },
  {
   "cell_type": "code",
   "execution_count": null,
   "id": "micro-lincoln",
   "metadata": {},
   "outputs": [],
   "source": [
    "bean = [3, 2, 1, 1, 3, 5]\n",
    "jumpy(bean)"
   ]
  },
  {
   "cell_type": "markdown",
   "id": "spare-bonus",
   "metadata": {},
   "source": [
    "---\n",
    "## While loops for validation of user input"
   ]
  },
  {
   "cell_type": "markdown",
   "id": "present-necessity",
   "metadata": {},
   "source": [
    "### Try it"
   ]
  },
  {
   "cell_type": "markdown",
   "id": "excellent-cincinnati",
   "metadata": {},
   "source": [
    "Entering which number will cause us to stop the loop? **This is a poll question**\n",
    "\n",
    "|||\n",
    "|---|---|\n",
    "|A.|2|\n",
    "|B.|3|\n",
    "|C.|6|\n",
    "|D.|9|\n",
    "|E.|More than one.|"
   ]
  },
  {
   "cell_type": "code",
   "execution_count": null,
   "id": "electronic-payroll",
   "metadata": {},
   "outputs": [],
   "source": [
    "def is_valid(x):\n",
    "    return x%2 == 1 and x%3 == 0\n",
    "\n",
    "valid = False\n",
    "while not valid:\n",
    "    n = int(input(\"Enter a number: \"))\n",
    "    valid = is_valid(n)"
   ]
  },
  {
   "cell_type": "markdown",
   "id": "textile-burton",
   "metadata": {},
   "source": [
    "---\n",
    "### Learn it"
   ]
  },
  {
   "cell_type": "markdown",
   "id": "fundamental-island",
   "metadata": {},
   "source": [
    "while loops are often used to help validate user input."
   ]
  },
  {
   "cell_type": "code",
   "execution_count": null,
   "id": "differential-shell",
   "metadata": {},
   "outputs": [],
   "source": [
    "valid = False\n",
    "while not valid: # could also write valid != True\n",
    "    # Get input from user\n",
    "    user_in = input(\"Enter data: \")\n",
    "\n",
    "    # Call a Boolean func to see if the\n",
    "    # entered data is valid or not.\n",
    "    valid = is_valid(user_in)"
   ]
  },
  {
   "cell_type": "markdown",
   "id": "moral-sphere",
   "metadata": {},
   "source": [
    "---\n",
    "### Apply it\n",
    "\n",
    "**What do we need to add to this code to have it stop when the user indicates?**"
   ]
  },
  {
   "cell_type": "code",
   "execution_count": null,
   "id": "corresponding-script",
   "metadata": {},
   "outputs": [],
   "source": [
    "animals = []\n",
    "done = False\n",
    "while not done:\n",
    "    a = input(\"Enter an animal or STOP to finish:\")\n",
    "    animals.append(a)"
   ]
  },
  {
   "cell_type": "markdown",
   "id": "opposite-negative",
   "metadata": {},
   "source": [
    "What will the user input to have the code stop?"
   ]
  },
  {
   "cell_type": "raw",
   "id": "opening-tribe",
   "metadata": {},
   "source": []
  },
  {
   "cell_type": "markdown",
   "id": "silver-eight",
   "metadata": {},
   "source": [
    "STOP is an example of a sentinel value"
   ]
  },
  {
   "cell_type": "markdown",
   "id": "moving-checklist",
   "metadata": {},
   "source": [
    "---\n",
    "## While loops and file reading"
   ]
  },
  {
   "cell_type": "markdown",
   "id": "ongoing-semiconductor",
   "metadata": {},
   "source": [
    "Recall that the readline method returns an empty string if we’ve reached the end of the file."
   ]
  },
  {
   "cell_type": "code",
   "execution_count": null,
   "id": "heavy-paint",
   "metadata": {},
   "outputs": [],
   "source": [
    "f = open('nums.txt', 'r')\n",
    "print(\"my line:\",f.readline().strip())\n",
    "print(\"my line:\",f.readline())\n",
    "print(\"my line:\",f.readline())\n",
    "print(\"my line:\",f.readline())\n",
    "print(\"my line:\",f.readline())\n",
    "print(\"my line:\",f.readline())\n",
    "print(\"my line:\",f.readline())\n",
    "f.close()"
   ]
  },
  {
   "cell_type": "markdown",
   "id": "outside-inflation",
   "metadata": {},
   "source": [
    "---\n",
    "We can read through a file by using readline in a loop."
   ]
  },
  {
   "cell_type": "markdown",
   "id": "decimal-wisdom",
   "metadata": {},
   "source": [
    "For Loop:"
   ]
  },
  {
   "cell_type": "code",
   "execution_count": null,
   "id": "removable-citizen",
   "metadata": {},
   "outputs": [],
   "source": [
    "open_file = open(\"nums.txt\", 'r')\n",
    "for line in open_file:\n",
    "    print(line)"
   ]
  },
  {
   "cell_type": "markdown",
   "id": "republican-worth",
   "metadata": {},
   "source": [
    "While loop:"
   ]
  },
  {
   "cell_type": "code",
   "execution_count": null,
   "id": "successful-drunk",
   "metadata": {},
   "outputs": [],
   "source": [
    "open_file = open(\"nums.txt\", 'r')\n",
    "line = open_file.readline()\n",
    "while line != \"\":\n",
    "    print(line)\n",
    "    line = open_file.readline()"
   ]
  },
  {
   "cell_type": "markdown",
   "id": "competent-minute",
   "metadata": {},
   "source": [
    "**Why/when might we want to use a while loop if it seems more complex?**"
   ]
  },
  {
   "cell_type": "raw",
   "id": "blond-shore",
   "metadata": {},
   "source": []
  },
  {
   "cell_type": "markdown",
   "id": "colonial-waterproof",
   "metadata": {},
   "source": [
    "---\n",
    "## While loop practice: Prime numbers"
   ]
  },
  {
   "cell_type": "markdown",
   "id": "median-component",
   "metadata": {},
   "source": [
    "A prime number is an integer, greater than 1, that cannot be formed by multiplying together smaller integers."
   ]
  },
  {
   "cell_type": "markdown",
   "id": "regional-patrol",
   "metadata": {},
   "source": [
    "**In groups** For the three calls to bar, what is printed and write a doc string for bar."
   ]
  },
  {
   "cell_type": "code",
   "execution_count": null,
   "id": "fleet-aerospace",
   "metadata": {},
   "outputs": [],
   "source": [
    "def bar(n):\n",
    "    i = 2\n",
    "    j = 0\n",
    "    total = 0\n",
    "    while total < n:\n",
    "        if is_prime(i): # assume is_prime returns true if i is a prime\n",
    "            total += i\n",
    "            j += 1\n",
    "        i += 1\n",
    "    return j"
   ]
  },
  {
   "cell_type": "code",
   "execution_count": null,
   "id": "pharmaceutical-disease",
   "metadata": {},
   "outputs": [],
   "source": [
    "print(bar(8))"
   ]
  },
  {
   "cell_type": "code",
   "execution_count": null,
   "id": "ancient-geology",
   "metadata": {},
   "outputs": [],
   "source": [
    "print(bar(20))"
   ]
  },
  {
   "cell_type": "code",
   "execution_count": null,
   "id": "declared-alexander",
   "metadata": {},
   "outputs": [],
   "source": [
    "print(bar(42))"
   ]
  },
  {
   "cell_type": "code",
   "execution_count": null,
   "id": "competitive-ranking",
   "metadata": {
    "jupyter": {
     "source_hidden": true
    },
    "tags": []
   },
   "outputs": [],
   "source": [
    "def is_prime(n):\n",
    "  if n < 2:\n",
    "    return False\n",
    "  i = 2\n",
    "  while i < n//2:\n",
    "    if n % i == 0:\n",
    "      return False\n",
    "    i += 1\n",
    "  return True"
   ]
  },
  {
   "cell_type": "markdown",
   "id": "certified-upper",
   "metadata": {},
   "source": [
    "**In groups** Fill in the missing spots to complete the function"
   ]
  },
  {
   "cell_type": "code",
   "execution_count": null,
   "id": "instant-sacrifice",
   "metadata": {},
   "outputs": [],
   "source": [
    "def is_prime(n)\n",
    "  if n < 2:\n",
    "    return False\n",
    "  i = 2\n",
    "  while i < XXX:\n",
    "    if YYY:\n",
    "      return False\n",
    "    i += 1\n",
    "  return ZZZ\n"
   ]
  },
  {
   "cell_type": "markdown",
   "id": "fresh-manner",
   "metadata": {},
   "source": [
    "Could we implement is_prime with a for loop? **This is a poll question**\n",
    "\n",
    "|||\n",
    "|---|---|\n",
    "|A.|No|\n",
    "|B.|Yes, and it would be better.|\n",
    "|C.|Yes, but it would be worse.|"
   ]
  },
  {
   "cell_type": "markdown",
   "id": "graduate-humidity",
   "metadata": {},
   "source": [
    "---\n",
    "## While loop practice: Euclidean Algorithm"
   ]
  },
  {
   "cell_type": "markdown",
   "id": "generous-tradition",
   "metadata": {},
   "source": [
    "The Euclidean algorithm is a way of finding the greatest common divisor of any two numbers."
   ]
  },
  {
   "cell_type": "markdown",
   "id": "permanent-degree",
   "metadata": {},
   "source": [
    "What is printed with the following two calls to the function? **This is a poll question (select the two correct answers)**\n",
    "\n",
    "|||||\n",
    "|---|---|---|---|\n",
    "|A.|1|F.|6|\n",
    "|B.|0|G.|12|\n",
    "|C.|7|H.|2|\n",
    "|D.|9|I.|4|\n",
    "|E.|5|J.|20|\n"
   ]
  },
  {
   "cell_type": "code",
   "execution_count": null,
   "id": "radio-cisco",
   "metadata": {},
   "outputs": [],
   "source": [
    "def euclid(a, b):\n",
    "    k = a\n",
    "    m = b\n",
    "    while k != 0 and m != 0:\n",
    "        if k > m:\n",
    "            k = k % m\n",
    "        else:\n",
    "            m = m % k\n",
    "    return max(k, m)"
   ]
  },
  {
   "cell_type": "code",
   "execution_count": null,
   "id": "every-oxygen",
   "metadata": {},
   "outputs": [],
   "source": [
    "print(euclid(32, 20))"
   ]
  },
  {
   "cell_type": "code",
   "execution_count": null,
   "id": "analyzed-cement",
   "metadata": {},
   "outputs": [],
   "source": [
    "print(euclid(14, 35))"
   ]
  }
 ],
 "metadata": {
  "kernelspec": {
   "display_name": "Python 3 (ipykernel)",
   "language": "python",
   "name": "python3"
  },
  "language_info": {
   "codemirror_mode": {
    "name": "ipython",
    "version": 3
   },
   "file_extension": ".py",
   "mimetype": "text/x-python",
   "name": "python",
   "nbconvert_exporter": "python",
   "pygments_lexer": "ipython3",
   "version": "3.8.5"
  }
 },
 "nbformat": 4,
 "nbformat_minor": 5
}
