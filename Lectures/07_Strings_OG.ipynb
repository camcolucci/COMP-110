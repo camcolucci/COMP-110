{
 "cells": [
  {
   "cell_type": "markdown",
   "id": "ideal-reynolds",
   "metadata": {},
   "source": [
    "# Strings"
   ]
  },
  {
   "cell_type": "markdown",
   "id": "charming-timeline",
   "metadata": {},
   "source": [
    "In this unit, we discuss strings, the operators we can use with them, and different string patterns!"
   ]
  },
  {
   "cell_type": "markdown",
   "id": "advisory-vinyl",
   "metadata": {},
   "source": [
    "---\n",
    "## Learning objectives\n",
    "\n",
    "By the end of this unit, you should be able to…\n",
    "\n",
    "- Create a string object\n",
    "- Write code that uses string methods\n",
    "- Write code to loop through a string\n",
    "- Recognize errors caused by the immutable property of strings"
   ]
  },
  {
   "cell_type": "markdown",
   "id": "verified-insulin",
   "metadata": {},
   "source": [
    "---\n",
    "## Strings and string operators"
   ]
  },
  {
   "cell_type": "markdown",
   "id": "presidential-receipt",
   "metadata": {
    "tags": []
   },
   "source": [
    "### Try it"
   ]
  },
  {
   "cell_type": "markdown",
   "id": "bigger-charlotte",
   "metadata": {},
   "source": [
    "Which code will result in the following pattern being printed? **This is a poll question.**\n",
    "\n",
    "x<br>\n",
    "xx<br>\n",
    "xxx<br>\n",
    "xxxx<br>\n",
    "\n",
    "|||\n",
    "|---|---|\n",
    "|A.|1|\n",
    "|B.|2|\n",
    "|C.|3|\n",
    "|D.|4|\n",
    "|E.|None of the choices.|"
   ]
  },
  {
   "cell_type": "code",
   "execution_count": 6,
   "id": "answering-racing",
   "metadata": {},
   "outputs": [
    {
     "ename": "TypeError",
     "evalue": "can only concatenate str (not \"int\") to str",
     "output_type": "error",
     "traceback": [
      "\u001b[0;31m---------------------------------------------------------------------------\u001b[0m",
      "\u001b[0;31mTypeError\u001b[0m                                 Traceback (most recent call last)",
      "Cell \u001b[0;32mIn[6], line 5\u001b[0m\n\u001b[1;32m      3\u001b[0m         s \u001b[38;5;241m=\u001b[39m \u001b[38;5;124m'\u001b[39m\u001b[38;5;124mx\u001b[39m\u001b[38;5;124m'\u001b[39m \u001b[38;5;241m+\u001b[39m i\n\u001b[1;32m      4\u001b[0m     \u001b[38;5;28mprint\u001b[39m(s)\n\u001b[0;32m----> 5\u001b[0m foo(\u001b[38;5;241m5\u001b[39m)\n",
      "Cell \u001b[0;32mIn[6], line 3\u001b[0m, in \u001b[0;36mfoo\u001b[0;34m(n)\u001b[0m\n\u001b[1;32m      1\u001b[0m \u001b[38;5;28;01mdef\u001b[39;00m \u001b[38;5;21mfoo\u001b[39m(n):\n\u001b[1;32m      2\u001b[0m     \u001b[38;5;28;01mfor\u001b[39;00m i \u001b[38;5;129;01min\u001b[39;00m \u001b[38;5;28mrange\u001b[39m(n):\n\u001b[0;32m----> 3\u001b[0m         s \u001b[38;5;241m=\u001b[39m \u001b[38;5;124m'\u001b[39m\u001b[38;5;124mx\u001b[39m\u001b[38;5;124m'\u001b[39m \u001b[38;5;241m+\u001b[39m i\n\u001b[1;32m      4\u001b[0m     \u001b[38;5;28mprint\u001b[39m(s)\n",
      "\u001b[0;31mTypeError\u001b[0m: can only concatenate str (not \"int\") to str"
     ]
    }
   ],
   "source": [
    "def foo(n):\n",
    "    for i in range(n):\n",
    "        s = 'x' + i\n",
    "    print(s)\n",
    "foo(5)\n",
    "    # \"\"\"This doesn't work because 'x' is a string, and you can't add a number to a string\n",
    "    # \"\"\""
   ]
  },
  {
   "cell_type": "code",
   "execution_count": 7,
   "id": "psychological-company",
   "metadata": {},
   "outputs": [
    {
     "name": "stdout",
     "output_type": "stream",
     "text": [
      "\n",
      "x\n",
      "xx\n",
      "xxx\n",
      "xxxx\n"
     ]
    }
   ],
   "source": [
    "def foo(n):\n",
    "    for i in range(n):\n",
    "        s = 'x' * i\n",
    "        print(s)\n",
    "foo(5)\n",
    "    # \"\"\"This works because you are multiplying the string, so it will print by the number of times it was multiplied\n",
    "    # \"\"\""
   ]
  },
  {
   "cell_type": "code",
   "execution_count": 8,
   "id": "ranking-recipe",
   "metadata": {},
   "outputs": [
    {
     "name": "stdout",
     "output_type": "stream",
     "text": [
      "xxxxx\n",
      "xxxxx\n",
      "xxxxx\n",
      "xxxxx\n",
      "xxxxx\n"
     ]
    }
   ],
   "source": [
    "def foo(n):\n",
    "    for i in range(n):\n",
    "        s = 'x' * n\n",
    "        print(s)\n",
    "foo(5)\n",
    "\n",
    "    # \"\"\"This also works for the same reason\n",
    "    # \"\"\""
   ]
  },
  {
   "cell_type": "code",
   "execution_count": null,
   "id": "vocational-savings",
   "metadata": {},
   "outputs": [],
   "source": [
    "def foo(n):\n",
    "    for i in range(n):\n",
    "        s = s + 'x'"
   ]
  },
  {
   "cell_type": "code",
   "execution_count": null,
   "id": "commercial-growing",
   "metadata": {},
   "outputs": [],
   "source": [
    "foo(5)"
   ]
  },
  {
   "cell_type": "markdown",
   "id": "modular-combat",
   "metadata": {},
   "source": [
    "---\n",
    "### Learn it"
   ]
  },
  {
   "cell_type": "markdown",
   "id": "naked-drunk",
   "metadata": {},
   "source": [
    "Strings represent a sequence of individual characters in Python\n",
    "\n",
    "||||||||||\n",
    "|---|---|---|---|---|---|---|---|---|\n",
    "|D|r|.| |O|l|s|e|n|\n",
    "|0|1|2|3|4|5|6|7|8|\n",
    "|-9|-8|-7|-6|-5|-4|-3|-2|-1|"
   ]
  },
  {
   "cell_type": "code",
   "execution_count": 10,
   "id": "checked-louisiana",
   "metadata": {},
   "outputs": [
    {
     "data": {
      "text/plain": [
       "'O'"
      ]
     },
     "execution_count": 10,
     "metadata": {},
     "output_type": "execute_result"
    }
   ],
   "source": [
    "my_name = \"Dr. Olsen\"\n",
    "my_name[4]\n",
    "    # Prints the the character at the specified index. If you want a range of indicies, change the funtion to be something like my_name[0:4]\n",
    "    # "
   ]
  },
  {
   "cell_type": "code",
   "execution_count": null,
   "id": "associate-nashville",
   "metadata": {},
   "outputs": [],
   "source": [
    "print(my_name[-5])"
   ]
  },
  {
   "cell_type": "code",
   "execution_count": 14,
   "id": "controlled-blank",
   "metadata": {},
   "outputs": [
    {
     "data": {
      "text/plain": [
       "'Dr. '"
      ]
     },
     "execution_count": 14,
     "metadata": {},
     "output_type": "execute_result"
    }
   ],
   "source": [
    "my_name[:-5]"
   ]
  },
  {
   "cell_type": "markdown",
   "id": "warming-tyler",
   "metadata": {},
   "source": [
    "---\n",
    "\n",
    "Strings have a set of operations that you can use on them.\n",
    "\n",
    "**Concatenation (+):** Combines two strings into a NEW string"
   ]
  },
  {
   "cell_type": "code",
   "execution_count": null,
   "id": "brief-microphone",
   "metadata": {},
   "outputs": [],
   "source": [
    "my_name = \"Tony the Tiger\"\n",
    "my_name + \"is da coolest\""
   ]
  },
  {
   "cell_type": "markdown",
   "id": "computational-amsterdam",
   "metadata": {},
   "source": [
    "**Repetition ( * ):** Makes a new string that is the repetition of an existing string.\n"
   ]
  },
  {
   "cell_type": "code",
   "execution_count": null,
   "id": "synthetic-rotation",
   "metadata": {},
   "outputs": [],
   "source": [
    "my_name * 3"
   ]
  },
  {
   "cell_type": "markdown",
   "id": "developing-visiting",
   "metadata": {},
   "source": [
    "**Length (len()):** Gives the length of the string\n"
   ]
  },
  {
   "cell_type": "code",
   "execution_count": null,
   "id": "studied-brother",
   "metadata": {},
   "outputs": [],
   "source": [
    "len(my_name)"
   ]
  },
  {
   "cell_type": "markdown",
   "id": "humanitarian-broad",
   "metadata": {},
   "source": [
    "**Slice operator ([:]):** allows us to get a specific subset of characters in a string."
   ]
  },
  {
   "cell_type": "code",
   "execution_count": null,
   "id": "indie-slope",
   "metadata": {},
   "outputs": [],
   "source": [
    "my_name[0:4]"
   ]
  },
  {
   "cell_type": "code",
   "execution_count": null,
   "id": "structured-douglas",
   "metadata": {},
   "outputs": [],
   "source": [
    "my_name[4:]"
   ]
  },
  {
   "cell_type": "code",
   "execution_count": null,
   "id": "adjusted-uniform",
   "metadata": {},
   "outputs": [],
   "source": [
    "my_name[:-10]"
   ]
  },
  {
   "cell_type": "markdown",
   "id": "perfect-sleep",
   "metadata": {},
   "source": [
    "---\n",
    "\n",
    "What’s printed by the following code? **This is a poll question.**\n",
    "\n",
    "|||\n",
    "|---|---|\n",
    "|A.|v|\n",
    "|B.|v4|\n",
    "|C.|ver|\n",
    "|D.|vers|\n",
    "|E.|None of the above.|"
   ]
  },
  {
   "cell_type": "code",
   "execution_count": null,
   "id": "separated-geology",
   "metadata": {},
   "outputs": [],
   "source": [
    "my_str = \"University of San Diego\"\n",
    "i = 3\n",
    "smaller_str = my_str[i:i+4]\n",
    "print(smaller_str)"
   ]
  },
  {
   "cell_type": "markdown",
   "id": "worthy-minister",
   "metadata": {},
   "source": [
    "---\n",
    "\n",
    "The **split** method allows you to separate strings into words."
   ]
  },
  {
   "cell_type": "code",
   "execution_count": 18,
   "id": "metallic-tractor",
   "metadata": {},
   "outputs": [
    {
     "data": {
      "text/plain": [
       "['Caution', ' Wet  Paint']"
      ]
     },
     "execution_count": 18,
     "metadata": {},
     "output_type": "execute_result"
    }
   ],
   "source": [
    "phrase = \"Caution: Wet  Paint\"\n",
    "phrase.split(\":\")\n",
    "    # splits the string at the specified point, the point you choose is not included"
   ]
  },
  {
   "cell_type": "code",
   "execution_count": 21,
   "id": "virtual-crowd",
   "metadata": {},
   "outputs": [
    {
     "data": {
      "text/plain": [
       "'Caution:'"
      ]
     },
     "execution_count": 21,
     "metadata": {},
     "output_type": "execute_result"
    }
   ],
   "source": [
    "words = phrase.split()\n",
    "words[0]\n",
    "    # Returns the specified word. Words range from 0-2 in this case\n",
    "    # "
   ]
  },
  {
   "cell_type": "code",
   "execution_count": 22,
   "id": "italian-springer",
   "metadata": {},
   "outputs": [
    {
     "data": {
      "text/plain": [
       "['Caution', ' Wet  Paint']"
      ]
     },
     "execution_count": 22,
     "metadata": {},
     "output_type": "execute_result"
    }
   ],
   "source": [
    "phrase.split(':')"
   ]
  },
  {
   "cell_type": "markdown",
   "id": "premium-doctor",
   "metadata": {},
   "source": [
    "The **join** method is the opposite of split: It combines a list of strings into a single string."
   ]
  },
  {
   "cell_type": "code",
   "execution_count": null,
   "id": "experimental-syndication",
   "metadata": {},
   "outputs": [],
   "source": [
    "initial_list = [\"J\", \"K\", \"O\"]\n",
    "print(initial_list)"
   ]
  },
  {
   "cell_type": "code",
   "execution_count": null,
   "id": "median-evidence",
   "metadata": {},
   "outputs": [],
   "source": [
    "spaced_initial = \" \".join(initial_list)\n",
    "print(spaced_initial)"
   ]
  },
  {
   "cell_type": "code",
   "execution_count": null,
   "id": "compact-partition",
   "metadata": {},
   "outputs": [],
   "source": [
    "smiled_initial = \"😀\".join(initial_list)\n",
    "print(smiled_initial)"
   ]
  },
  {
   "cell_type": "markdown",
   "id": "hired-importance",
   "metadata": {},
   "source": [
    "---\n",
    "What’s printed by the following code? **This is a poll question.**\n",
    "\n",
    "\n",
    "|||\n",
    "|---|---|\n",
    "|A.|True|\n",
    "|B.|False|\n",
    "|C.|Hello|\n",
    "|D.|found|\n",
    "|E.|None of the above.|"
   ]
  },
  {
   "cell_type": "code",
   "execution_count": null,
   "id": "committed-transaction",
   "metadata": {},
   "outputs": [],
   "source": [
    "def jojo(bar):\n",
    "    found = False\n",
    "    for i in range(len(bar) - 1):\n",
    "        if bar[i] == bar[i+1]:\n",
    "            found = True\n",
    "    return found\n",
    "\n",
    "print(jojo(\"Hello\"))\n",
    "\n",
    "    # C is correct. This will print true for any word with repeating letters\n",
    "    # "
   ]
  },
  {
   "cell_type": "markdown",
   "id": "fabulous-timing",
   "metadata": {},
   "source": [
    "What does the above function do? **This is a poll question.**\n",
    "\n",
    "|||\n",
    "|---|---|\n",
    "|A.|Checks if a string contains the letter ’i’.|\n",
    "|B.|Checks if a string contains any duplicate characters.|\n",
    "|C.|Checks if a string contains the same character, twice in a row.|\n",
    "|D.|It always returns False.|\n",
    "|E.|None of the above.|\n"
   ]
  },
  {
   "cell_type": "markdown",
   "id": "reliable-condition",
   "metadata": {},
   "source": [
    "---\n",
    "### Apply it"
   ]
  },
  {
   "cell_type": "markdown",
   "id": "different-challenge",
   "metadata": {},
   "source": [
    "**In groups** What’s printed by the following code snippets?"
   ]
  },
  {
   "cell_type": "code",
   "execution_count": 25,
   "id": "regulation-theme",
   "metadata": {},
   "outputs": [
    {
     "name": "stdout",
     "output_type": "stream",
     "text": [
      "False\n"
     ]
    }
   ],
   "source": [
    "def speedwagon(bar):\n",
    "    found = False\n",
    "    for i in range(len(bar) - 1):\n",
    "        if bar[i] == bar[i+1]:\n",
    "            found = True\n",
    "        else:\n",
    "            found = False\n",
    "    return found\n",
    "\n",
    "print(speedwagon(\"Hello\"))\n",
    "\n",
    "   # For this one, the entire string will pass through the function because of the else statement. It will return the most last condition of the string, which is \"lo\" which is false.\n"
   ]
  },
  {
   "cell_type": "code",
   "execution_count": null,
   "id": "remarkable-consultancy",
   "metadata": {},
   "outputs": [],
   "source": [
    "def joestar(bar):\n",
    "    found = False\n",
    "    for i in range(len(bar)//2):\n",
    "        if bar[i] == bar[-1 - i]:\n",
    "            found = True\n",
    "    return found\n",
    "\n",
    "print(joestar(\"Hello\"))\n"
   ]
  },
  {
   "cell_type": "markdown",
   "id": "fitted-chart",
   "metadata": {},
   "source": [
    "---\n",
    "## Strings: Loops and accumulators\n",
    "\n",
    "### Try it\n",
    "\n",
    "**Group discussion:** What is printed for the following code snippets?\n"
   ]
  },
  {
   "cell_type": "code",
   "execution_count": null,
   "id": "greenhouse-phrase",
   "metadata": {},
   "outputs": [],
   "source": [
    "s = \"boop the snoot\"\n",
    "new_s = \"\"\n",
    "for i in range(0, len(s), 2):\n",
    "    new_s = new_s + s[i]\n",
    "print(new_s)"
   ]
  },
  {
   "cell_type": "code",
   "execution_count": 26,
   "id": "general-houston",
   "metadata": {},
   "outputs": [
    {
     "name": "stdout",
     "output_type": "stream",
     "text": [
      "!yaw n\n"
     ]
    }
   ],
   "source": [
    "t = \"no heckin way!\"\n",
    "new_t = \"\"\n",
    "for i in range(1, len(t) // 2):\n",
    "    new_t = new_t + t[-i]\n",
    "print(new_t)\n"
   ]
  },
  {
   "cell_type": "code",
   "execution_count": 27,
   "id": "serial-chocolate",
   "metadata": {},
   "outputs": [
    {
     "name": "stdout",
     "output_type": "stream",
     "text": [
      "A\n",
      "R\n",
      "O\n",
      "C\n",
      "K\n",
      "Y\n"
     ]
    }
   ],
   "source": [
    "u = \"And the winner is... ROCKY!\"\n",
    "for ch in u:\n",
    "    if ch.isupper():\n",
    "        print(ch)\n",
    "#ch is check function, so it checks and print all the specified characters in the string. In this case, all the uppercase letters"
   ]
  },
  {
   "cell_type": "markdown",
   "id": "artistic-shark",
   "metadata": {},
   "source": [
    "---\n",
    "\n",
    "### Learn it\n",
    "\n",
    "We can loop through strings either by item or by index.\n",
    "\n",
    "By item:"
   ]
  },
  {
   "cell_type": "code",
   "execution_count": 28,
   "id": "concerned-orange",
   "metadata": {},
   "outputs": [
    {
     "name": "stdout",
     "output_type": "stream",
     "text": [
      "C\n",
      "S\n",
      " \n",
      "R\n",
      "u\n",
      "l\n",
      "e\n",
      "s\n",
      "!\n"
     ]
    }
   ],
   "source": [
    "text = \"CS Rules!\"\n",
    "for ch in text:\n",
    "    print(ch)"
   ]
  },
  {
   "cell_type": "markdown",
   "id": "fifty-schedule",
   "metadata": {},
   "source": [
    "By index:"
   ]
  },
  {
   "cell_type": "code",
   "execution_count": 29,
   "id": "favorite-crisis",
   "metadata": {},
   "outputs": [
    {
     "name": "stdout",
     "output_type": "stream",
     "text": [
      "C\n",
      "S\n",
      " \n",
      "R\n",
      "u\n",
      "l\n",
      "e\n",
      "s\n",
      "!\n"
     ]
    }
   ],
   "source": [
    "text = \"CS Rules!\"\n",
    "for i in range(len(text)):\n",
    "    print(text[i])"
   ]
  },
  {
   "cell_type": "markdown",
   "id": "copyrighted-victory",
   "metadata": {},
   "source": [
    "What types are text, ch, and i?"
   ]
  },
  {
   "cell_type": "raw",
   "id": "fourth-friendship",
   "metadata": {
    "vscode": {
     "languageId": "raw"
    }
   },
   "source": [
    "text - A string\n",
    "ch - a string\n",
    "i - an integer"
   ]
  },
  {
   "cell_type": "markdown",
   "id": "sharp-transcript",
   "metadata": {},
   "source": [
    "---\n",
    "\n",
    "Strings are immutable, meaning they cannot be modified!"
   ]
  },
  {
   "cell_type": "code",
   "execution_count": null,
   "id": "incomplete-encyclopedia",
   "metadata": {},
   "outputs": [],
   "source": [
    "jolly = \"Ho Ho Ho\"\n",
    "jolly[0] = \"N\""
   ]
  },
  {
   "cell_type": "code",
   "execution_count": null,
   "id": "piano-monitor",
   "metadata": {},
   "outputs": [],
   "source": [
    "less_jolly = \"N\" + jolly[1:]"
   ]
  },
  {
   "cell_type": "code",
   "execution_count": null,
   "id": "fiscal-respect",
   "metadata": {},
   "outputs": [],
   "source": [
    "print(less_jolly)"
   ]
  },
  {
   "cell_type": "markdown",
   "id": "characteristic-yugoslavia",
   "metadata": {},
   "source": [
    "Concatenation always makes a new string, so we can use this in our accumulator pattern!"
   ]
  },
  {
   "cell_type": "code",
   "execution_count": null,
   "id": "alternative-heather",
   "metadata": {},
   "outputs": [],
   "source": [
    "print(jolly)\n",
    "jolly = jolly + \" Ho\"\n",
    "print(jolly)"
   ]
  },
  {
   "cell_type": "markdown",
   "id": "according-circular",
   "metadata": {},
   "source": [
    "---\n",
    "\n",
    "Which of the following will correctly produce a string without spaces? **This is a poll question.**\n",
    "\n",
    "|||\n",
    "|---|---|\n",
    "|A.|1|\n",
    "|B.|2|\n",
    "|C.|3|\n",
    "|D.|More than one of the above.|\n",
    "|E.|None of the above.|"
   ]
  },
  {
   "cell_type": "code",
   "execution_count": null,
   "id": "recovered-knife",
   "metadata": {},
   "outputs": [],
   "source": [
    "def remove_spaces(s):\n",
    "    for c in s:\n",
    "        if c == ' ':\n",
    "            c = ''"
   ]
  },
  {
   "cell_type": "code",
   "execution_count": null,
   "id": "recognized-relationship",
   "metadata": {},
   "outputs": [],
   "source": [
    "def remove_spaces(s):\n",
    "    new_s = ''\n",
    "    for c in s:\n",
    "        if c != ' ':\n",
    "            new_s = new_s + c\n",
    "    return new_s"
   ]
  },
  {
   "cell_type": "code",
   "execution_count": null,
   "id": "peaceful-barcelona",
   "metadata": {},
   "outputs": [],
   "source": [
    "def remove_spaces(s):\n",
    "    for i in range(len(s)):\n",
    "        if s[i] == \" \":\n",
    "            s[i] = \"\""
   ]
  },
  {
   "cell_type": "markdown",
   "id": "toxic-grocery",
   "metadata": {},
   "source": [
    "---\n",
    "\n",
    "### Apply it\n",
    "\n",
    "What is printed while running the following code snippets?"
   ]
  },
  {
   "cell_type": "code",
   "execution_count": null,
   "id": "promotional-affiliation",
   "metadata": {},
   "outputs": [],
   "source": [
    "def acc_mystery(grade_str):\n",
    "    sum = 0.0\n",
    "    for ch in grade_str:\n",
    "        if ch == 'A':\n",
    "            sum = sum + 4.0\n",
    "        elif ch == 'B':\n",
    "            sum = sum + 3.0\n",
    "        elif ch == 'C':\n",
    "            sum = sum + 2.0\n",
    "        elif ch == 'D':\n",
    "            sum = sum + 1.0\n",
    "      \n",
    "    return sum / len(grade_str)"
   ]
  },
  {
   "cell_type": "code",
   "execution_count": null,
   "id": "funny-motorcycle",
   "metadata": {},
   "outputs": [],
   "source": [
    "print(acc_mystery('BBAC'))"
   ]
  },
  {
   "cell_type": "code",
   "execution_count": null,
   "id": "atlantic-colorado",
   "metadata": {},
   "outputs": [],
   "source": [
    "print(acc_mystery(''))"
   ]
  }
 ],
 "metadata": {
  "kernelspec": {
   "display_name": "Python 3 (ipykernel)",
   "language": "python",
   "name": "python3"
  },
  "language_info": {
   "codemirror_mode": {
    "name": "ipython",
    "version": 3
   },
   "file_extension": ".py",
   "mimetype": "text/x-python",
   "name": "python",
   "nbconvert_exporter": "python",
   "pygments_lexer": "ipython3",
   "version": "3.11.5"
  }
 },
 "nbformat": 4,
 "nbformat_minor": 5
}
