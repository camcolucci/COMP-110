{
 "cells": [
  {
   "cell_type": "markdown",
   "id": "vulnerable-billion",
   "metadata": {},
   "source": [
    "# Dictionaries\n",
    "\n",
    "In this unit, we will discuss dictionaries and how they are used in python and how to iterate through them using for loops."
   ]
  },
  {
   "cell_type": "markdown",
   "id": "future-satin",
   "metadata": {},
   "source": [
    "---\n",
    "## Learning objectives\n",
    "\n",
    "By the end of this unit, you should be able to…\n",
    "- Write code to construct a dictionary\n",
    "- Write code to use dictionary methods\n",
    "- Write code to iterate through a dictionary using a for loop"
   ]
  },
  {
   "cell_type": "markdown",
   "id": "computational-sigma",
   "metadata": {},
   "source": [
    "---\n",
    "## Dictionary constructors and methods\n"
   ]
  },
  {
   "cell_type": "markdown",
   "id": "endless-allah",
   "metadata": {},
   "source": [
    "### Try it\n",
    "\n",
    "**Group discussion** In what ways are dictionaries similar to list in python? How are they different?"
   ]
  },
  {
   "cell_type": "raw",
   "id": "accepting-oxide",
   "metadata": {},
   "source": []
  },
  {
   "cell_type": "markdown",
   "id": "lightweight-complement",
   "metadata": {},
   "source": [
    "---\n",
    "\n",
    "For how many of the following would you use a dictionary rather than a list? **This is a poll question**\n",
    "\n",
    "|||\n",
    "|---|---|\n",
    "|A.|0|\n",
    "|B.|1|\n",
    "|C.|2|\n",
    "|D.|3|\n",
    "|E.|4|\n"
   ]
  },
  {
   "cell_type": "markdown",
   "id": "sexual-physics",
   "metadata": {},
   "source": [
    "- Keeping track of all the types of birds you see while out bird watching.\n",
    "- Keeping track of how many of each type of bird you see.\n",
    "- Keeping track of the cost of various items on your grocery list.\n",
    "- Keeping track of which actor/actress played each part in a movie."
   ]
  },
  {
   "cell_type": "markdown",
   "id": "trying-investigation",
   "metadata": {},
   "source": [
    "---\n",
    "### Learn it\n",
    "\n",
    "Dictionaries allow us to create associations between objects."
   ]
  },
  {
   "cell_type": "code",
   "execution_count": null,
   "id": "breeding-interaction",
   "metadata": {},
   "outputs": [],
   "source": [
    "# A dictionary is indicated with curly brackets\n",
    "my_dict = {}\n",
    "my_dict = { \"foo\" : 10, \"bar\": 33, \"yelp\": 12 }\n",
    "my_dict[\"foo\"]"
   ]
  },
  {
   "cell_type": "markdown",
   "id": "devoted-baking",
   "metadata": {},
   "source": [
    "**Let's draw a reference diagram for this code as we go!**"
   ]
  },
  {
   "cell_type": "code",
   "execution_count": null,
   "id": "isolated-observer",
   "metadata": {},
   "outputs": [],
   "source": [
    "# dictionaries are mutable\n",
    "my_dict[\"baz\"] = 18\n",
    "del my_dict['yelp']\n",
    "my_dict['foo'] = 27\n",
    "my_dict"
   ]
  },
  {
   "cell_type": "code",
   "execution_count": null,
   "id": "chubby-clone",
   "metadata": {},
   "outputs": [],
   "source": [
    "# we can check for keys\n",
    "\"foo\" in my_dict, \"woof\" in my_dict"
   ]
  },
  {
   "cell_type": "code",
   "execution_count": null,
   "id": "considerable-valve",
   "metadata": {},
   "outputs": [],
   "source": [
    "# we cannot check directly for values\n",
    "33 in my_dict"
   ]
  },
  {
   "cell_type": "code",
   "execution_count": null,
   "id": "neutral-candle",
   "metadata": {},
   "outputs": [],
   "source": [
    "# we cannot access a value for a key that is not in the dictionary\n",
    "my_dict[\"woof\"]"
   ]
  },
  {
   "cell_type": "markdown",
   "id": "sustained-economy",
   "metadata": {},
   "source": [
    "---\n",
    "How many of the following statements will cause a KeyError? **This is a poll question**\n",
    "\n",
    "|||\n",
    "|---|---|\n",
    "|A.|1|\n",
    "|B.|2|\n",
    "|C.|3|\n",
    "|D.|4|\n",
    "|E.|5|"
   ]
  },
  {
   "cell_type": "code",
   "execution_count": null,
   "id": "african-faculty",
   "metadata": {},
   "outputs": [],
   "source": [
    "my_dict = {\"meow\" : 10, \"bark\": 33}"
   ]
  },
  {
   "cell_type": "code",
   "execution_count": null,
   "id": "wooden-university",
   "metadata": {},
   "outputs": [],
   "source": [
    "my_dict['baa'] = 25\n",
    "my_dict[\"bark\"] = 22\n",
    "my_dict['oink'] = my_dict[\"oink\"] + 1\n",
    "my_dict[\"bark\"] = my_dict['bark'] + 1\n",
    "my_dict[\"bark\"] = my_dict[\"moo\"] + 1"
   ]
  },
  {
   "cell_type": "markdown",
   "id": "adjustable-lemon",
   "metadata": {},
   "source": [
    "---\n",
    "Dictionaries have a set of methods to access their information"
   ]
  },
  {
   "cell_type": "code",
   "execution_count": null,
   "id": "stunning-anatomy",
   "metadata": {},
   "outputs": [],
   "source": [
    "# we can find the length\n",
    "len(my_dict)"
   ]
  },
  {
   "cell_type": "code",
   "execution_count": null,
   "id": "productive-stanford",
   "metadata": {},
   "outputs": [],
   "source": [
    "# we can access values using brackets\n",
    "my_dict['foo']"
   ]
  },
  {
   "cell_type": "code",
   "execution_count": null,
   "id": "about-inspector",
   "metadata": {},
   "outputs": [],
   "source": [
    "my_dict.keys()"
   ]
  },
  {
   "cell_type": "code",
   "execution_count": null,
   "id": "ancient-farming",
   "metadata": {},
   "outputs": [],
   "source": [
    "my_dict.values()"
   ]
  },
  {
   "cell_type": "code",
   "execution_count": null,
   "id": "fossil-packet",
   "metadata": {},
   "outputs": [],
   "source": [
    "my_dict.items()"
   ]
  },
  {
   "cell_type": "code",
   "execution_count": null,
   "id": "owned-elevation",
   "metadata": {},
   "outputs": [],
   "source": [
    "my_dict.get('foo')"
   ]
  },
  {
   "cell_type": "code",
   "execution_count": null,
   "id": "maritime-choir",
   "metadata": {},
   "outputs": [],
   "source": [
    "my_dict.get('woof')"
   ]
  },
  {
   "cell_type": "code",
   "execution_count": null,
   "id": "satisfactory-friend",
   "metadata": {},
   "outputs": [],
   "source": [
    "my_dict.get('woof',0)"
   ]
  },
  {
   "cell_type": "code",
   "execution_count": null,
   "id": "oriented-smile",
   "metadata": {},
   "outputs": [],
   "source": [
    "my_dict.get('foo',0)"
   ]
  },
  {
   "cell_type": "markdown",
   "id": "polished-fancy",
   "metadata": {},
   "source": [
    "---\n",
    "### Apply it"
   ]
  },
  {
   "cell_type": "markdown",
   "id": "abandoned-aquatic",
   "metadata": {},
   "source": [
    "**In groups** For the following inputs to anon, answer \"What is printed while executing the following code?\""
   ]
  },
  {
   "cell_type": "code",
   "execution_count": null,
   "id": "challenging-playing",
   "metadata": {},
   "outputs": [],
   "source": [
    "def anon(my_str):\n",
    "    my_dict = {} # empty dictionary\n",
    "    for ch in \"ABCDE\":\n",
    "        my_dict[ch] = 0\n",
    "\n",
    "    for ch in my_str: # What pattern is this for loop using?\n",
    "        my_dict[ch] = my_dict[ch] + 1\n",
    "\n",
    "    return my_dict"
   ]
  },
  {
   "cell_type": "code",
   "execution_count": null,
   "id": "physical-mozambique",
   "metadata": {},
   "outputs": [],
   "source": [
    "x = anon(\"AEABECAC\")\n",
    "print(x['D'])"
   ]
  },
  {
   "cell_type": "code",
   "execution_count": null,
   "id": "civil-density",
   "metadata": {},
   "outputs": [],
   "source": [
    "x = anon(\"DEEECDEE\")\n",
    "print(x['D'])"
   ]
  },
  {
   "cell_type": "code",
   "execution_count": null,
   "id": "federal-forth",
   "metadata": {},
   "outputs": [],
   "source": [
    "x = anon(\"BBCBABDB\")\n",
    "print(x['C'])"
   ]
  },
  {
   "cell_type": "code",
   "execution_count": null,
   "id": "nonprofit-antenna",
   "metadata": {},
   "outputs": [],
   "source": [
    "x = anon(\"CBBCAABCE\")\n",
    "print(x['A'] + x['C'])"
   ]
  },
  {
   "cell_type": "markdown",
   "id": "corporate-stack",
   "metadata": {},
   "source": [
    "---\n",
    "What does the anon function do? **This is a poll question**\n",
    "\n",
    "|||\n",
    "|---|---|\n",
    "|A.| Counts the number of characters in my_str.|\n",
    "|B.|Counts how many times a specific character occurs.|\n",
    "|C.|Finds the index where a character occurs.|\n",
    "|D.|None of the above.|"
   ]
  },
  {
   "cell_type": "markdown",
   "id": "funny-treatment",
   "metadata": {},
   "source": [
    "---\n",
    "We can use pyplot’s bar function to help us visualize the output of anon."
   ]
  },
  {
   "cell_type": "code",
   "execution_count": null,
   "id": "regulated-completion",
   "metadata": {},
   "outputs": [],
   "source": [
    "import matplotlib.pyplot as pp\n",
    "freqs = anon(\"AEABECAC\")\n",
    "pp.bar(freqs.keys(), freqs.values())\n",
    "pp.xlabel(\"Answer\")\n",
    "pp.ylabel(\"# Responses\")\n",
    "pp.title(\"Clicker Response Data\")\n",
    "pp.show()"
   ]
  },
  {
   "cell_type": "markdown",
   "id": "hollow-property",
   "metadata": {
    "tags": []
   },
   "source": [
    "---\n",
    "## Dictionaries and for loops"
   ]
  },
  {
   "cell_type": "markdown",
   "id": "approved-greek",
   "metadata": {},
   "source": [
    "### Try it\n",
    "\n",
    "What is printed by the following code? **This is a poll question**\n",
    "\n",
    "|||\n",
    "|---|---|\n",
    "|A.|'earth'|\n",
    "|B.|'water'|\n",
    "|C.|'earthfirewater'|\n",
    "|D.|('earth','fire','water')|\n",
    "|E.|Error!|"
   ]
  },
  {
   "cell_type": "code",
   "execution_count": null,
   "id": "located-imagination",
   "metadata": {},
   "outputs": [],
   "source": [
    "def bending(bend):\n",
    "    max_count = 0\n",
    "    bending_type = None\n",
    "    for k in bend.keys():\n",
    "        if len(bend[k]) > max_count:\n",
    "            max_count = len(bend[k])\n",
    "            bending_type = (k,)\n",
    "        elif len(bend[k]) == max_count:\n",
    "            bending_type = bending_type + (k,)\n",
    "    return bending_type\n",
    "\n",
    "my_dict = {'water': ['Aang', 'Katara'], 'air': ['Aang'], 'fire': ['Aang','Zuko'], 'earth': ['Aang','Toph']}\n",
    "print(bending(my_dict))"
   ]
  },
  {
   "cell_type": "markdown",
   "id": "resistant-lincoln",
   "metadata": {},
   "source": [
    "---\n",
    "### Learn it \n",
    "\n",
    "The two most common ways to loop through a dictionary are by key and by item.\n",
    "\n",
    "By key:"
   ]
  },
  {
   "cell_type": "code",
   "execution_count": null,
   "id": "recorded-destruction",
   "metadata": {},
   "outputs": [],
   "source": [
    "my_dict = {\"foo\": 10, \"bar\": 33}\n",
    "for k in my_dict.keys():\n",
    "    print(\"Key:\", k)\n",
    "    print(\"Value:\", my_dict[k])"
   ]
  },
  {
   "cell_type": "markdown",
   "id": "exciting-truck",
   "metadata": {},
   "source": [
    "(Looping by key is so common you can leave off the keys method and it will default to this.)"
   ]
  },
  {
   "cell_type": "code",
   "execution_count": null,
   "id": "unlimited-antique",
   "metadata": {},
   "outputs": [],
   "source": [
    "my_dict = {\"foo\": 10, \"bar\": 33}\n",
    "for k in my_dict:\n",
    "    print(\"Key:\", k)\n",
    "    print(\"Value:\", my_dict[k])"
   ]
  },
  {
   "cell_type": "markdown",
   "id": "becoming-sodium",
   "metadata": {},
   "source": [
    "---\n",
    "By item:"
   ]
  },
  {
   "cell_type": "code",
   "execution_count": null,
   "id": "coral-champagne",
   "metadata": {},
   "outputs": [],
   "source": [
    "my_dict = {\"foo\": 10, \"bar\": 33}\n",
    "for item in my_dict.items():\n",
    "    print(\"Key:\", item[0])\n",
    "    print(\"Value:\", item[1])"
   ]
  },
  {
   "cell_type": "markdown",
   "id": "friendly-pharmacy",
   "metadata": {},
   "source": [
    "(We can also use tuple assignment!!!)"
   ]
  },
  {
   "cell_type": "code",
   "execution_count": null,
   "id": "rapid-coalition",
   "metadata": {},
   "outputs": [],
   "source": [
    "my_dict = {\"foo\": 10, \"bar\": 33}\n",
    "for (k, v) in my_dict.items():\n",
    "    print(\"Key:\", k)\n",
    "    print(\"Value:\", v)"
   ]
  },
  {
   "cell_type": "markdown",
   "id": "tough-damage",
   "metadata": {},
   "source": [
    "---\n",
    "### Apply it\n",
    "\n",
    "**In groups** What is printed for the following two calls to the foo function?"
   ]
  },
  {
   "cell_type": "code",
   "execution_count": null,
   "id": "jewish-covering",
   "metadata": {},
   "outputs": [],
   "source": [
    "def foo(shun):\n",
    "    b = -1\n",
    "    result = None\n",
    "    for (k,v) in shun.items():\n",
    "        if v > b:\n",
    "            b = v\n",
    "            result = k\n",
    "\n",
    "    return result"
   ]
  },
  {
   "cell_type": "code",
   "execution_count": null,
   "id": "iraqi-grammar",
   "metadata": {},
   "outputs": [],
   "source": [
    "x = {'O': 1, 'M': 5, 'G': 3}\n",
    "print(foo(x))"
   ]
  },
  {
   "cell_type": "code",
   "execution_count": null,
   "id": "bizarre-silicon",
   "metadata": {},
   "outputs": [],
   "source": [
    "x = {'W': 6, 'T': -2, 'F': 4}\n",
    "print(foo(x))"
   ]
  },
  {
   "cell_type": "markdown",
   "id": "extreme-rehabilitation",
   "metadata": {},
   "source": [
    "---\n",
    "What does the foo function do? **This is a poll question**\n",
    "\n",
    "|||\n",
    "|---|---|\n",
    "|A.|Loops through a dictionary and if the value is larger than b, replaces b and sets the result to the key. It then returns the key.|\n",
    "|B.|Returns the highest value.|\n",
    "|C.|Returns the total of all the values.|\n",
    "|D.|Returns the letter with the highest count.|"
   ]
  }
 ],
 "metadata": {
  "kernelspec": {
   "display_name": "Python 3 (ipykernel)",
   "language": "python",
   "name": "python3"
  },
  "language_info": {
   "codemirror_mode": {
    "name": "ipython",
    "version": 3
   },
   "file_extension": ".py",
   "mimetype": "text/x-python",
   "name": "python",
   "nbconvert_exporter": "python",
   "pygments_lexer": "ipython3",
   "version": "3.8.5"
  }
 },
 "nbformat": 4,
 "nbformat_minor": 5
}
