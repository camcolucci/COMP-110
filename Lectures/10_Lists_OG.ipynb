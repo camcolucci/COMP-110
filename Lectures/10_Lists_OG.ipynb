{
 "cells": [
  {
   "cell_type": "markdown",
   "id": "seeing-python",
   "metadata": {},
   "source": [
    "# Lists"
   ]
  },
  {
   "cell_type": "markdown",
   "id": "coated-concert",
   "metadata": {
    "tags": []
   },
   "source": [
    "In this unit, we will begin to discuss the basic properties and methods with lists. We will continue with discussing aliases and cloning. We will then discuss using lists within loops and using the accumulator pattern. Finally, we will discuss some common list patterns with mapping and filtering."
   ]
  },
  {
   "cell_type": "markdown",
   "id": "amber-venue",
   "metadata": {},
   "source": [
    "---\n",
    "## Learning objectives\n",
    "\n",
    "By the end of this unit, you should be able to…\n",
    "- Construct a list data structure\n",
    "- Apply list operators\n",
    "- Create a nested list\n",
    "- Describe aliases\n",
    "- Create a for loop to loop through a list\n",
    "- Apply the accumulator pattern to develop a list\n",
    "- Apply the map and filter patterns to create a new list\n"
   ]
  },
  {
   "cell_type": "markdown",
   "id": "positive-cycle",
   "metadata": {},
   "source": [
    "---\n",
    "\n",
    "## Lists and List Operators\n",
    "\n",
    "### Try it\n",
    "\n",
    "**In groups** In what ways are lists similar to strings in Python? How are they different?"
   ]
  },
  {
   "cell_type": "raw",
   "id": "neural-chess",
   "metadata": {},
   "source": [
    "Similar:"
   ]
  },
  {
   "cell_type": "raw",
   "id": "comparable-forum",
   "metadata": {},
   "source": [
    "Different:"
   ]
  },
  {
   "cell_type": "markdown",
   "id": "twenty-sacramento",
   "metadata": {},
   "source": [
    "---\n",
    "\n",
    "### Learn it\n",
    "\n",
    "Lists allow us to store collections of objects."
   ]
  },
  {
   "cell_type": "code",
   "execution_count": null,
   "id": "phantom-edgar",
   "metadata": {},
   "outputs": [],
   "source": [
    "import turtle\n",
    "my_list = [1, True, 5.5, turtle.Turtle()]"
   ]
  },
  {
   "cell_type": "code",
   "execution_count": null,
   "id": "million-superintendent",
   "metadata": {},
   "outputs": [],
   "source": [
    "your_list = [1, True, 5.5, turtle.Turtle()]"
   ]
  },
  {
   "cell_type": "markdown",
   "id": "asian-ethernet",
   "metadata": {},
   "source": [
    "Let's draw a reference diagram!"
   ]
  },
  {
   "cell_type": "markdown",
   "id": "former-conflict",
   "metadata": {},
   "source": [
    "---\n",
    "\n",
    "We can access items in the list by indexing in."
   ]
  },
  {
   "cell_type": "code",
   "execution_count": null,
   "id": "understood-backup",
   "metadata": {},
   "outputs": [],
   "source": [
    "our_list = [1, True, 5.5]\n",
    "our_list[1]"
   ]
  },
  {
   "cell_type": "markdown",
   "id": "seasonal-emperor",
   "metadata": {},
   "source": [
    "How would you move the turtle in my_list forward by 100? **This is a poll question**\n",
    "\n",
    "|||\n",
    "|---|---|\n",
    "|A.|my_list.forward(100)|\n",
    "|B.|my_list.turtle.forward(100)|\n",
    "|C.|my_list[3].forward(100)|\n",
    "|D.|my_list[4].forward(100)|"
   ]
  },
  {
   "cell_type": "code",
   "execution_count": null,
   "id": "meaningful-hello",
   "metadata": {},
   "outputs": [],
   "source": [
    "import turtle\n",
    "my_list = [1, True, 5.5, turtle.Turtle()]\n",
    "# move the turtle forward"
   ]
  },
  {
   "cell_type": "markdown",
   "id": "intermediate-thickness",
   "metadata": {},
   "source": [
    "---\n",
    "\n",
    "Some list operators will be similar to those of a string."
   ]
  },
  {
   "cell_type": "code",
   "execution_count": null,
   "id": "average-schedule",
   "metadata": {},
   "outputs": [],
   "source": [
    "our_list = [1, True, 5.5]\n",
    "# find the length\n",
    "len(our_list)"
   ]
  },
  {
   "cell_type": "code",
   "execution_count": null,
   "id": "comprehensive-mailman",
   "metadata": {},
   "outputs": [],
   "source": [
    "# index into an item\n",
    "our_list[1]"
   ]
  },
  {
   "cell_type": "code",
   "execution_count": null,
   "id": "organized-character",
   "metadata": {},
   "outputs": [],
   "source": [
    "# find if an object is in the list\n",
    "5.5 in our_list"
   ]
  },
  {
   "cell_type": "code",
   "execution_count": null,
   "id": "collaborative-edmonton",
   "metadata": {},
   "outputs": [],
   "source": [
    "# contatenate two lists\n",
    "our_list + [\"last\"]"
   ]
  },
  {
   "cell_type": "code",
   "execution_count": null,
   "id": "varying-shift",
   "metadata": {},
   "outputs": [],
   "source": [
    "print(our_list)"
   ]
  },
  {
   "cell_type": "code",
   "execution_count": null,
   "id": "suburban-trial",
   "metadata": {},
   "outputs": [],
   "source": [
    "# repeat a list\n",
    "our_list * 2"
   ]
  },
  {
   "cell_type": "code",
   "execution_count": null,
   "id": "existing-portugal",
   "metadata": {},
   "outputs": [],
   "source": [
    "print(our_list)"
   ]
  },
  {
   "cell_type": "code",
   "execution_count": null,
   "id": "exempt-error",
   "metadata": {},
   "outputs": [],
   "source": [
    "# slice a list\n",
    "our_list[1:3]"
   ]
  },
  {
   "cell_type": "markdown",
   "id": "finished-jacksonville",
   "metadata": {},
   "source": [
    "---\n",
    "\n",
    "There are some new list operators and methods as well."
   ]
  },
  {
   "cell_type": "code",
   "execution_count": null,
   "id": "reverse-default",
   "metadata": {},
   "outputs": [],
   "source": [
    "# reassign an index location in the list\n",
    "our_list[1] = \"second is the best\""
   ]
  },
  {
   "cell_type": "code",
   "execution_count": null,
   "id": "norman-drunk",
   "metadata": {},
   "outputs": [],
   "source": [
    "print(our_list)"
   ]
  },
  {
   "cell_type": "code",
   "execution_count": null,
   "id": "mysterious-kelly",
   "metadata": {},
   "outputs": [],
   "source": [
    "# reassign multiple items\n",
    "our_list[1:3] = [\"happy\",\"Thursday\"]"
   ]
  },
  {
   "cell_type": "code",
   "execution_count": null,
   "id": "dramatic-cleaners",
   "metadata": {},
   "outputs": [],
   "source": [
    "print(our_list)"
   ]
  },
  {
   "cell_type": "code",
   "execution_count": null,
   "id": "public-department",
   "metadata": {},
   "outputs": [],
   "source": [
    "# delete items from a list\n",
    "our_list[2:] = []\n",
    "print(our_list)"
   ]
  },
  {
   "cell_type": "code",
   "execution_count": null,
   "id": "minimal-profit",
   "metadata": {},
   "outputs": [],
   "source": [
    "#insert an item into the list\n",
    "our_list[1:1] = [\"second is the best\"]\n",
    "print(our_list)"
   ]
  },
  {
   "cell_type": "code",
   "execution_count": null,
   "id": "single-serve",
   "metadata": {},
   "outputs": [],
   "source": [
    "# delete an item from the list\n",
    "del our_list[0]\n",
    "print(our_list)"
   ]
  },
  {
   "cell_type": "code",
   "execution_count": null,
   "id": "interested-dictionary",
   "metadata": {},
   "outputs": [],
   "source": [
    "# add an item to the end of the list\n",
    "our_list.append(\"Thursday\")\n",
    "print(our_list)"
   ]
  },
  {
   "cell_type": "markdown",
   "id": "virgin-zimbabwe",
   "metadata": {},
   "source": [
    "The append method has side effects (meaning it changes the list it is called on without returning that list). This means it still returns None!"
   ]
  },
  {
   "cell_type": "code",
   "execution_count": null,
   "id": "breeding-casino",
   "metadata": {},
   "outputs": [],
   "source": [
    "# append is not a pure function, it changes the list through side effects\n",
    "our_list = our_list.append(\"!\")\n",
    "print(our_list)"
   ]
  },
  {
   "cell_type": "markdown",
   "id": "ranging-brunei",
   "metadata": {},
   "source": [
    "---\n",
    "\n",
    "What is printed while running this code? **This is a poll question**\n",
    "\n",
    "|||\n",
    "|-----|-----|\n",
    "|A.|[2, 3, 5, 100, 3, 5]|\n",
    "|B.|[100, 3, 5, 100, 3, 5]|\n",
    "|C.|[102, 6, 10]|\n",
    "|D.|[2, 3, 5, 2, 3, 5]|\n",
    "|E.|None of the above.|"
   ]
  },
  {
   "cell_type": "code",
   "execution_count": null,
   "id": "desperate-anatomy",
   "metadata": {},
   "outputs": [],
   "source": [
    "list1 = [2, 3, 5]\n",
    "list2 = list1\n",
    "list2[0] = 100\n",
    "list3 = list2 + list1\n",
    "print(list3)"
   ]
  },
  {
   "cell_type": "markdown",
   "id": "reduced-forty",
   "metadata": {},
   "source": [
    "What if we add the below line?"
   ]
  },
  {
   "cell_type": "code",
   "execution_count": null,
   "id": "descending-experience",
   "metadata": {},
   "outputs": [],
   "source": [
    "list1 = [2, 3, 5]\n",
    "list2 = list1\n",
    "list2[0] = 100\n",
    "list3 = list2 + list1\n",
    "list3[0] = 88 # this line is new\n",
    "print(list3)"
   ]
  },
  {
   "cell_type": "markdown",
   "id": "urban-reader",
   "metadata": {},
   "source": [
    "---\n",
    "\n",
    "### Apply it\n",
    "\n",
    "What is printed while running this code?"
   ]
  },
  {
   "cell_type": "code",
   "execution_count": null,
   "id": "cloudy-density",
   "metadata": {},
   "outputs": [],
   "source": [
    "def inc(num_list, n):\n",
    "    n = n + 1\n",
    "    for i in range(len(num_list)):\n",
    "        num_list[i] = num_list[i] + 1\n",
    "\n",
    "my_list = [2, 6, 7]\n",
    "x = 5\n",
    "inc(my_list, x)\n",
    "print(my_list, x)"
   ]
  },
  {
   "cell_type": "markdown",
   "id": "useful-reflection",
   "metadata": {},
   "source": [
    "---\n",
    "## Nested Lists\n",
    "\n",
    "### Try it\n",
    "\n",
    "What is printed while running the following code? **This is a poll question**\n",
    "\n",
    "|||\n",
    "|-----|-----|\n",
    "|A.|2|\n",
    "|B.|10|\n",
    "|C.|[1, 2, 13]|\n",
    "|D.|[5, 10, 20]|\n",
    "|E.|[2, 10]|"
   ]
  },
  {
   "cell_type": "code",
   "execution_count": null,
   "id": "current-wireless",
   "metadata": {},
   "outputs": [],
   "source": [
    "nested = [[1,2,3], [5,10,20]]\n",
    "print(nested[1])"
   ]
  },
  {
   "cell_type": "markdown",
   "id": "historical-painting",
   "metadata": {},
   "source": [
    "---\n",
    "\n",
    "### Learn it\n",
    "\n",
    "A nested list is when the objects within a list are other lists. Having a nested list can help to represent things that are in grids!"
   ]
  },
  {
   "cell_type": "code",
   "execution_count": null,
   "id": "raising-appliance",
   "metadata": {},
   "outputs": [],
   "source": [
    "multiplication_table = [[1,2,3,4,5],[2,4,6,8,10],[3,6,9,12,15],[4,8,12,16,20],[5,10,15,20,25]]\n",
    "for i in range(len(multiplication_table)):\n",
    "    row = \"\"\n",
    "    for j in range(len(multiplication_table[i])):\n",
    "        row = row + str(multiplication_table[i][j]) + \" \"\n",
    "    print(row)"
   ]
  },
  {
   "cell_type": "markdown",
   "id": "sufficient-folks",
   "metadata": {},
   "source": [
    "Let's see a reference diagram!\n",
    "\n",
    "We can access the objects in the inner lists the same way we work with regular lists."
   ]
  },
  {
   "cell_type": "code",
   "execution_count": null,
   "id": "corresponding-roman",
   "metadata": {},
   "outputs": [],
   "source": [
    "multiplication_table[0]"
   ]
  },
  {
   "cell_type": "code",
   "execution_count": null,
   "id": "buried-singer",
   "metadata": {},
   "outputs": [],
   "source": [
    "multiplication_table[0][2]"
   ]
  },
  {
   "cell_type": "markdown",
   "id": "polyphonic-anatomy",
   "metadata": {},
   "source": [
    "Nested for loops allow us to iterate through each of the lists."
   ]
  },
  {
   "cell_type": "code",
   "execution_count": null,
   "id": "linear-citizenship",
   "metadata": {},
   "outputs": [],
   "source": [
    "for i in range(len(multiplication_table)):\n",
    "    print(multiplication_table[i])\n",
    "    for j in range(len(multiplication_table[i])):\n",
    "        print(multiplication_table[i][j])"
   ]
  },
  {
   "cell_type": "markdown",
   "id": "subtle-assets",
   "metadata": {},
   "source": [
    "We can also do this by item."
   ]
  },
  {
   "cell_type": "code",
   "execution_count": null,
   "id": "adjusted-milwaukee",
   "metadata": {},
   "outputs": [],
   "source": [
    "for i in multiplication_table:\n",
    "    print(i)\n",
    "    for j in i:\n",
    "        print(j)"
   ]
  },
  {
   "cell_type": "markdown",
   "id": "asian-limit",
   "metadata": {},
   "source": [
    "---\n",
    "\n",
    "### Apply it\n",
    "\n",
    "**In groups** Fill in the code at AAA and BBB so that the code prints:\n",
    "\n",
    "```python\n",
    "[3, 6, 7]\n",
    "[2, 6, 7, 2, 6, 7, 2, 6, 7]\n",
    "[[3, 6, 7], [3, 6, 7], [3, 6, 7]]\n",
    "```"
   ]
  },
  {
   "cell_type": "code",
   "execution_count": 1,
   "id": "computational-motel",
   "metadata": {},
   "outputs": [
    {
     "name": "stdout",
     "output_type": "stream",
     "text": [
      "[3, 6, 7]\n",
      "[2, 6, 7, 2, 6, 7, 2, 6, 7]\n",
      "[[3, 6, 7], [3, 6, 7], [3, 6, 7]]\n"
     ]
    }
   ],
   "source": [
    "my_list = [2, 6, 7]\n",
    "another_list = AAA * 3\n",
    "third_list = BBB * 3\n",
    "\n",
    "my_list[0] = 3\n",
    "\n",
    "print(my_list)\n",
    "print(another_list)\n",
    "print(third_list)"
   ]
  },
  {
   "cell_type": "code",
   "execution_count": null,
   "id": "pacific-athletics",
   "metadata": {
    "jupyter": {
     "source_hidden": true
    },
    "tags": []
   },
   "outputs": [],
   "source": [
    "my_list = [2, 6, 7]\n",
    "another_list = my_list * 3\n",
    "third_list = [my_list] * 3\n",
    "\n",
    "my_list[0] = 3\n",
    "\n",
    "print(my_list)\n",
    "print(another_list)\n",
    "print(third_list)"
   ]
  },
  {
   "cell_type": "markdown",
   "id": "protected-heating",
   "metadata": {},
   "source": [
    "---\n",
    "## Aliasing and Cloning\n",
    "\n",
    "### Try it"
   ]
  },
  {
   "cell_type": "markdown",
   "id": "retained-costa",
   "metadata": {
    "tags": []
   },
   "source": [
    "At what (x,y) coordinate in the world is the turtle donnie? **This is a poll question**\n",
    "\n",
    "||donnie’s (x,y)|\n",
    "|-----|-------|\n",
    "|A.|(0,0)|\n",
    "|B.|(0,100)|\n",
    "|C.|(100,0)|\n",
    "|D.|Something else|"
   ]
  },
  {
   "cell_type": "code",
   "execution_count": null,
   "id": "average-stuff",
   "metadata": {},
   "outputs": [],
   "source": [
    "import turtle\n",
    "\n",
    "donnie = turtle.Turtle()\n",
    "raffy = donnie\n",
    "donnie.left(90)\n",
    "raffy.forward(100)"
   ]
  },
  {
   "cell_type": "raw",
   "id": "attempted-violation",
   "metadata": {
    "tags": []
   },
   "source": []
  },
  {
   "cell_type": "markdown",
   "id": "introductory-handy",
   "metadata": {
    "tags": []
   },
   "source": [
    "---\n",
    "\n",
    "### Learn it\n",
    "\n",
    "Aliases are when two variable names are pointing at the same object.\n",
    "\n",
    "Why is it generally bad to have aliases in the same namespace?"
   ]
  },
  {
   "cell_type": "raw",
   "id": "abroad-prophet",
   "metadata": {
    "tags": []
   },
   "source": []
  },
  {
   "cell_type": "markdown",
   "id": "developing-photography",
   "metadata": {
    "tags": []
   },
   "source": [
    "---\n",
    "The **is** operator can be used to check if two names refer to the same object."
   ]
  },
  {
   "cell_type": "code",
   "execution_count": null,
   "id": "passive-alexandria",
   "metadata": {
    "tags": []
   },
   "outputs": [],
   "source": [
    "phrase = [\"wubba\", \"lubba\"]\n",
    "phrase_alias = phrase\n",
    "phrase_alias is phrase\n"
   ]
  },
  {
   "cell_type": "code",
   "execution_count": null,
   "id": "permanent-christian",
   "metadata": {
    "tags": []
   },
   "outputs": [],
   "source": [
    "other_phrase = phrase[:]  # clone\n",
    "other_phrase\n",
    "\n"
   ]
  },
  {
   "cell_type": "code",
   "execution_count": null,
   "id": "handy-certificate",
   "metadata": {
    "tags": []
   },
   "outputs": [],
   "source": [
    "other_phrase is phrase"
   ]
  },
  {
   "cell_type": "code",
   "execution_count": null,
   "id": "impossible-restriction",
   "metadata": {
    "tags": []
   },
   "outputs": [],
   "source": [
    "other_phrase == phrase"
   ]
  },
  {
   "cell_type": "markdown",
   "id": "commercial-music",
   "metadata": {},
   "source": [
    "Let's draw a reference diagram!"
   ]
  },
  {
   "cell_type": "markdown",
   "id": "cloudy-romance",
   "metadata": {
    "tags": []
   },
   "source": [
    "---\n",
    "### Apply it\n",
    "\n",
    "**In groups** Which of the following lines print True?\n",
    "\n"
   ]
  },
  {
   "cell_type": "code",
   "execution_count": null,
   "id": "australian-allah",
   "metadata": {
    "tags": []
   },
   "outputs": [],
   "source": [
    "def identity(num_list, n):\n",
    "    print(n is x)\n",
    "    print(num_list is my_list)\n",
    "    n = n + 1\n",
    "    num_list[0] = 9\n",
    "    print(n is x)\n",
    "    print(num_list is my_list)\n",
    "\n",
    "my_list = [2, 6, 7]\n",
    "x = 5\n",
    "identity(my_list, x)"
   ]
  },
  {
   "cell_type": "markdown",
   "id": "negative-robertson",
   "metadata": {},
   "source": [
    "---\n",
    "## List accumulators"
   ]
  },
  {
   "cell_type": "markdown",
   "id": "choice-parts",
   "metadata": {},
   "source": [
    "### Try it"
   ]
  },
  {
   "cell_type": "markdown",
   "id": "sharing-waste",
   "metadata": {
    "tags": []
   },
   "source": [
    "What is printed while running this code? **This is a poll question**\n",
    "\n",
    "|||\n",
    "|----|----|\n",
    "|A.|3|\n",
    "|B.|6|\n",
    "|C.|9|\n",
    "|D.|16|\n",
    "|E.|[0,9]|\n"
   ]
  },
  {
   "cell_type": "code",
   "execution_count": null,
   "id": "graduate-paris",
   "metadata": {
    "tags": []
   },
   "outputs": [],
   "source": [
    "nl = []\n",
    "\n",
    "for i in range(5):\n",
    "    val = i**2\n",
    "    nl.append(val)\n",
    "\n",
    "print(nl[0] + nl[3])"
   ]
  },
  {
   "cell_type": "markdown",
   "id": "paperback-cursor",
   "metadata": {
    "tags": []
   },
   "source": [
    "---\n",
    "### Learn it\n",
    "\n"
   ]
  },
  {
   "cell_type": "markdown",
   "id": "eligible-dressing",
   "metadata": {
    "tags": []
   },
   "source": [
    "We can loop through lists either by item or by index (just like with strings).\n",
    "\n",
    "By item:"
   ]
  },
  {
   "cell_type": "code",
   "execution_count": null,
   "id": "crude-extent",
   "metadata": {
    "tags": []
   },
   "outputs": [],
   "source": [
    "listy = [5.3, 8.2, -52.1]\n",
    "for item in listy:\n",
    "    # item refers to a float\n",
    "    print(item)"
   ]
  },
  {
   "cell_type": "markdown",
   "id": "finished-shell",
   "metadata": {
    "tags": []
   },
   "source": [
    "By index:"
   ]
  },
  {
   "cell_type": "code",
   "execution_count": null,
   "id": "bacterial-panel",
   "metadata": {
    "tags": []
   },
   "outputs": [],
   "source": [
    "listy = [5.3, 8.2, -52.1]\n",
    "for i in range(len(listy)):\n",
    "    # i refers to an integer\n",
    "    print(listy[i])\n",
    "    "
   ]
  },
  {
   "cell_type": "markdown",
   "id": "cosmetic-ivory",
   "metadata": {},
   "source": [
    "**What are the types of item, listy, and i?**"
   ]
  },
  {
   "cell_type": "code",
   "execution_count": null,
   "id": "surrounded-korean",
   "metadata": {
    "tags": []
   },
   "outputs": [],
   "source": [
    "print(type(item))\n",
    "print(type(listy))\n",
    "print(type(i))"
   ]
  },
  {
   "cell_type": "markdown",
   "id": "micro-graphics",
   "metadata": {
    "tags": []
   },
   "source": [
    "---\n",
    "When you need to reassign list items, loop by index rather than by item. **What will these print?**"
   ]
  },
  {
   "cell_type": "code",
   "execution_count": null,
   "id": "rising-marble",
   "metadata": {
    "tags": []
   },
   "outputs": [],
   "source": [
    "my_list = [4, 7, 12]\n",
    "for item in my_list:\n",
    "    item = item + 1\n",
    "print(my_list)"
   ]
  },
  {
   "cell_type": "code",
   "execution_count": null,
   "id": "macro-terminology",
   "metadata": {
    "tags": []
   },
   "outputs": [],
   "source": [
    "for i in range(len(my_list)):\n",
    "    my_list[i] = my_list[i] + 1\n",
    "print(my_list)"
   ]
  },
  {
   "cell_type": "markdown",
   "id": "grave-payroll",
   "metadata": {
    "tags": []
   },
   "source": [
    "---\n",
    "**What does this code do?**\n",
    "\n"
   ]
  },
  {
   "cell_type": "code",
   "execution_count": null,
   "id": "simplified-greeting",
   "metadata": {
    "tags": []
   },
   "outputs": [],
   "source": [
    "def foo(my_list):\n",
    "    t = 0\n",
    "    for i in my_list:\n",
    "        t = t + i\n",
    "    return t\n",
    "\n",
    "nested = [[1,2,3], [5,10,20]]\n",
    "for x in nested:\n",
    "    print(foo(x))"
   ]
  },
  {
   "cell_type": "raw",
   "id": "excessive-tourist",
   "metadata": {},
   "source": []
  },
  {
   "cell_type": "markdown",
   "id": "robust-worry",
   "metadata": {},
   "source": [
    "---\n",
    "The accumulator pattern can be used to build a list, one item at a time."
   ]
  },
  {
   "cell_type": "code",
   "execution_count": null,
   "id": "olympic-warning",
   "metadata": {
    "tags": []
   },
   "outputs": [],
   "source": [
    "# initialize empty list\n",
    "new_list = []\n",
    "\n",
    "for item in sequence:\n",
    "    # calculate an_item…\n",
    "    # add an_item to end of list\n",
    "    new_list.append(an_item)\n"
   ]
  },
  {
   "cell_type": "code",
   "execution_count": null,
   "id": "accepted-daisy",
   "metadata": {
    "tags": []
   },
   "outputs": [],
   "source": [
    "# initialize empty list\n",
    "new_list = []\n",
    "\n",
    "for item in range(10):\n",
    "    # calculate an_item…\n",
    "    # add an_item to end of list\n",
    "    an_item = item ** 2\n",
    "    new_list.append(an_item)\n",
    "print(new_list)"
   ]
  },
  {
   "cell_type": "markdown",
   "id": "desperate-family",
   "metadata": {
    "tags": []
   },
   "source": [
    "---\n",
    "Are the following two versions functionally equivalent? **This is a poll question**\n",
    "\n",
    "|||\n",
    "|----|----|\n",
    "|A.|Yes, but version 1 is better.|\n",
    "|B.|Yes, but version 2 is better.|\n",
    "|C.|No.|\n",
    "\n",
    "Version 1\n"
   ]
  },
  {
   "cell_type": "code",
   "execution_count": null,
   "id": "veterinary-ridge",
   "metadata": {
    "tags": []
   },
   "outputs": [],
   "source": [
    "nl = []\n",
    "\n",
    "for i in range(5):\n",
    "    val = i**2\n",
    "    nl.append(val)\n",
    "print(nl)"
   ]
  },
  {
   "cell_type": "markdown",
   "id": "naked-battle",
   "metadata": {
    "tags": []
   },
   "source": [
    "Version 2"
   ]
  },
  {
   "cell_type": "code",
   "execution_count": null,
   "id": "powered-cross",
   "metadata": {
    "tags": []
   },
   "outputs": [],
   "source": [
    "nl = []\n",
    "\n",
    "for i in range(5):\n",
    "    nl.append(i**2)\n",
    "print(nl)"
   ]
  },
  {
   "cell_type": "markdown",
   "id": "unnecessary-economics",
   "metadata": {
    "tags": []
   },
   "source": [
    "---\n",
    "### Apply it\n",
    "\n",
    "**In groups** Correct the errors so this code prints:\n",
    "\n",
    "```\n",
    "[0, 0, 0, 1, 1, 2, 1, 3, 2, 4]\n",
    "```"
   ]
  },
  {
   "cell_type": "code",
   "execution_count": 7,
   "id": "brief-thumb",
   "metadata": {
    "tags": []
   },
   "outputs": [
    {
     "name": "stdout",
     "output_type": "stream",
     "text": [
      "None\n"
     ]
    }
   ],
   "source": [
    "\n",
    "\n",
    "for i in range(5):\n",
    "    nl = []\n",
    "    val = i // 2\n",
    "    nl + [val]\n",
    "    nl = nl.append(i)\n",
    "\n",
    "print(nl)"
   ]
  },
  {
   "cell_type": "code",
   "execution_count": 8,
   "id": "separate-unemployment",
   "metadata": {
    "jupyter": {
     "source_hidden": true
    },
    "tags": []
   },
   "outputs": [
    {
     "name": "stdout",
     "output_type": "stream",
     "text": [
      "[0, 0, 0, 1, 1, 2, 1, 3, 2, 4]\n"
     ]
    }
   ],
   "source": [
    "nl = []\n",
    "\n",
    "for i in range(5):\n",
    "    val = i // 2\n",
    "    nl = nl + [val]\n",
    "    nl.append(i)\n",
    "\n",
    "print(nl)"
   ]
  },
  {
   "cell_type": "markdown",
   "id": "gothic-suicide",
   "metadata": {},
   "source": [
    "---\n",
    "## Map and Filter"
   ]
  },
  {
   "cell_type": "markdown",
   "id": "stopped-dayton",
   "metadata": {},
   "source": [
    "### Try it"
   ]
  },
  {
   "cell_type": "markdown",
   "id": "educational-campaign",
   "metadata": {
    "tags": []
   },
   "source": [
    "What is printed while running this code? **This is a poll question**\n",
    "\n",
    "|||\n",
    "|----|----|\n",
    "|A.|0|\n",
    "|B.|2|\n",
    "|C.|3|\n",
    "|D.|4|\n",
    "|E.|Error!|\n"
   ]
  },
  {
   "cell_type": "code",
   "execution_count": null,
   "id": "little-split",
   "metadata": {
    "tags": []
   },
   "outputs": [],
   "source": [
    "def builder(foo, x, y):\n",
    "    nl = []\n",
    "    for item in foo:\n",
    "        if x <= item <= y:\n",
    "            nl.append(item)\n",
    "    return nl\n",
    "\n",
    "list1 = [15, -2, 8, 25]\n",
    "n = 5\n",
    "m = len(builder(list1, n, n*3))\n",
    "print(m)"
   ]
  },
  {
   "cell_type": "markdown",
   "id": "trying-wrestling",
   "metadata": {},
   "source": [
    "---\n",
    "### Learn it\n",
    "\n",
    "We often use two common accumulator patterns when working with lists.\n",
    "\n",
    "Map Pattern:"
   ]
  },
  {
   "cell_type": "code",
   "execution_count": null,
   "id": "adverse-sector",
   "metadata": {},
   "outputs": [],
   "source": [
    "def list_map(orig_list):\n",
    "    new_list = []\n",
    "    for item in orig_list:\n",
    "        new_val = some_func(item)\n",
    "        new_list.append(new_val)\n",
    "    return new_list"
   ]
  },
  {
   "cell_type": "code",
   "execution_count": null,
   "id": "understood-ministry",
   "metadata": {
    "tags": []
   },
   "outputs": [],
   "source": [
    "def list_map(orig_list):\n",
    "    new_list = []\n",
    "    for item in orig_list:\n",
    "        new_val = item ** 2\n",
    "        new_list.append(new_val)\n",
    "    return new_list\n",
    "\n",
    "my_list = [0,1,2,3,4]\n",
    "print(list_map(my_list))"
   ]
  },
  {
   "cell_type": "markdown",
   "id": "behind-squad",
   "metadata": {},
   "source": [
    "Filter Pattern:"
   ]
  },
  {
   "cell_type": "code",
   "execution_count": null,
   "id": "still-protocol",
   "metadata": {},
   "outputs": [],
   "source": [
    "def list_filter(orig_list):\n",
    "    filtered = []\n",
    "    for item in orig_list:\n",
    "        if <condition>:\n",
    "            filtered.append(item)\n",
    "    return filtered"
   ]
  },
  {
   "cell_type": "code",
   "execution_count": null,
   "id": "worldwide-nightlife",
   "metadata": {
    "tags": []
   },
   "outputs": [],
   "source": [
    "def list_filter(orig_list):\n",
    "    filtered = []\n",
    "    for item in orig_list:\n",
    "        if item < 2:\n",
    "            filtered.append(item)\n",
    "    return filtered\n",
    "\n",
    "print(list_filter(my_list))"
   ]
  },
  {
   "cell_type": "markdown",
   "id": "overhead-schema",
   "metadata": {},
   "source": [
    "---\n",
    "### Apply it\n",
    "**In groups** For the following three parts of code, what is printed while running each set of code? Be prepared to explain why and what pattern is being used."
   ]
  },
  {
   "cell_type": "code",
   "execution_count": null,
   "id": "packed-drain",
   "metadata": {},
   "outputs": [],
   "source": [
    "def builder(foo, x):\n",
    "    nl = []\n",
    "    for item in foo:\n",
    "        if item % x == 1:\n",
    "            nl.append(item)\n",
    "    return nl\n",
    "\n",
    "list1 = [15, 7, 8, 25]\n",
    "list2 = builder(list1, 4)\n",
    "print(list2)"
   ]
  },
  {
   "cell_type": "markdown",
   "id": "under-yacht",
   "metadata": {},
   "source": [
    "Which pattern is this?"
   ]
  },
  {
   "cell_type": "raw",
   "id": "three-address",
   "metadata": {},
   "source": []
  },
  {
   "cell_type": "code",
   "execution_count": null,
   "id": "sixth-montreal",
   "metadata": {},
   "outputs": [],
   "source": [
    "def transform(n):\n",
    "    return 2 ** n\n",
    "\n",
    "def foo(my_list):\n",
    "    nl = []\n",
    "    for item in my_list:\n",
    "        nl.append(transform(item))\n",
    "    return nl\n",
    "\n",
    "print(foo([3, 4, -1]))"
   ]
  },
  {
   "cell_type": "markdown",
   "id": "attended-fashion",
   "metadata": {},
   "source": [
    "Which pattern is this?"
   ]
  },
  {
   "cell_type": "raw",
   "id": "civilian-demand",
   "metadata": {},
   "source": []
  },
  {
   "cell_type": "code",
   "execution_count": null,
   "id": "front-reserve",
   "metadata": {},
   "outputs": [],
   "source": [
    "def rhythm(n, x):\n",
    "    return n * x\n",
    "\n",
    "def night(my_list, x):\n",
    "    nl = []\n",
    "    for item in my_list:\n",
    "        nl.append(rhythm(item, x))\n",
    "    return nl\n",
    "\n",
    "print(night([7, -2], 3))"
   ]
  },
  {
   "cell_type": "markdown",
   "id": "illegal-staff",
   "metadata": {},
   "source": [
    "Which pattern is this?"
   ]
  },
  {
   "cell_type": "raw",
   "id": "mighty-judgment",
   "metadata": {},
   "source": []
  },
  {
   "cell_type": "markdown",
   "id": "harmful-bowling",
   "metadata": {},
   "source": [
    "---\n",
    "Are moo and oink functionally equivalent? **This is a poll question**\n",
    "\n",
    "|||\n",
    "|----|----|\n",
    "|A.|Yes, but moo is better.|\n",
    "|B.|Yes, but oink is better.|\n",
    "|C.|No.|\n"
   ]
  },
  {
   "cell_type": "code",
   "execution_count": null,
   "id": "aboriginal-ireland",
   "metadata": {},
   "outputs": [],
   "source": [
    "def moo(my_list):\n",
    "    nl = []\n",
    "    for item in my_list:\n",
    "        nl.append(item * 2)\n",
    "    return nl"
   ]
  },
  {
   "cell_type": "code",
   "execution_count": null,
   "id": "auburn-parks",
   "metadata": {},
   "outputs": [],
   "source": [
    "def oink(my_list):\n",
    "    for i in range(len(my_list)):\n",
    "        my_list[i] = my_list[i] * 2"
   ]
  },
  {
   "cell_type": "markdown",
   "id": "further-relaxation",
   "metadata": {},
   "source": [
    "oink has **side effects** while moo is a **pure function** (i.e. free of side effects)"
   ]
  }
 ],
 "metadata": {
  "kernelspec": {
   "display_name": "Python 3 (ipykernel)",
   "language": "python",
   "name": "python3"
  },
  "language_info": {
   "codemirror_mode": {
    "name": "ipython",
    "version": 3
   },
   "file_extension": ".py",
   "mimetype": "text/x-python",
   "name": "python",
   "nbconvert_exporter": "python",
   "pygments_lexer": "ipython3",
   "version": "3.8.5"
  },
  "toc-showtags": false
 },
 "nbformat": 4,
 "nbformat_minor": 5
}
