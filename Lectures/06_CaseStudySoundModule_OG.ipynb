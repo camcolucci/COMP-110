{
 "cells": [
  {
   "cell_type": "markdown",
   "id": "described-personal",
   "metadata": {},
   "source": [
    "# Case study: Sound module"
   ]
  },
  {
   "cell_type": "markdown",
   "id": "tight-syndrome",
   "metadata": {},
   "source": [
    "In unit, we will apply what we have learned so far to the sound module! We will also learn a few interesting ways to interact with the module that you will need for PSA 2."
   ]
  },
  {
   "cell_type": "markdown",
   "id": "surprising-guatemala",
   "metadata": {},
   "source": [
    "---\n",
    "## Learning objectives\n",
    "\n",
    "By the end of this unit, you should be able to…\n",
    "\n",
    "- Apply what you have learned to the sound module\n",
    "- Index into a sound \n"
   ]
  },
  {
   "cell_type": "markdown",
   "id": "selective-living",
   "metadata": {},
   "source": [
    "---\n",
    "## Sound module"
   ]
  },
  {
   "cell_type": "markdown",
   "id": "breathing-rally",
   "metadata": {},
   "source": [
    "### Learn it"
   ]
  },
  {
   "cell_type": "markdown",
   "id": "static-williams",
   "metadata": {},
   "source": [
    "A Sound object is a sequence of StereoSample objects.\n",
    "\n",
    "|||||\n",
    "|---|---|---|---|\n",
    "|(-129,-129)|(-149,-149)|(-133,-133)|(-121,-121)|\n",
    "|0|1|2|3|\n",
    "|-4|-3|-2|-1|\n",
    "\n",
    "Each pair is a SterioSample object with a left channel value and a right channel value.\n",
    "\n",
    "You can reach each through an index into the sound sample, either positive or negative!"
   ]
  },
  {
   "cell_type": "code",
   "execution_count": 1,
   "id": "naval-venezuela",
   "metadata": {},
   "outputs": [
    {
     "ename": "AttributeError",
     "evalue": "module 'sound' has no attribute 'load_sound'",
     "output_type": "error",
     "traceback": [
      "\u001b[0;31m---------------------------------------------------------------------------\u001b[0m",
      "\u001b[0;31mAttributeError\u001b[0m                            Traceback (most recent call last)",
      "Cell \u001b[0;32mIn[1], line 2\u001b[0m\n\u001b[1;32m      1\u001b[0m \u001b[38;5;28;01mimport\u001b[39;00m \u001b[38;5;21;01msound\u001b[39;00m\n\u001b[0;32m----> 2\u001b[0m wave_sound \u001b[38;5;241m=\u001b[39m sound\u001b[38;5;241m.\u001b[39mload_sound(\u001b[38;5;124m\"\u001b[39m\u001b[38;5;124mtest.wav\u001b[39m\u001b[38;5;124m\"\u001b[39m)\n\u001b[1;32m      3\u001b[0m sound\u001b[38;5;241m.\u001b[39mcrop_sound(wave_sound,\u001b[38;5;241m0\u001b[39m,\u001b[38;5;241m3\u001b[39m)\n\u001b[1;32m      4\u001b[0m my_sound \u001b[38;5;241m=\u001b[39m wave_sound\n",
      "\u001b[0;31mAttributeError\u001b[0m: module 'sound' has no attribute 'load_sound'"
     ]
    }
   ],
   "source": [
    "import sound\n",
    "wave_sound = sound.load_sound(\"test.wav\")\n",
    "sound.crop_sound(wave_sound,0,3)\n",
    "my_sound = wave_sound\n",
    "\n",
    "print(my_sound[0].left)"
   ]
  },
  {
   "cell_type": "code",
   "execution_count": null,
   "id": "friendly-pound",
   "metadata": {},
   "outputs": [],
   "source": [
    "print(my_sound[3].right)"
   ]
  },
  {
   "cell_type": "code",
   "execution_count": null,
   "id": "sealed-history",
   "metadata": {},
   "outputs": [],
   "source": [
    "abs(my_sound[3].right)"
   ]
  },
  {
   "cell_type": "code",
   "execution_count": null,
   "id": "improving-lawyer",
   "metadata": {},
   "outputs": [],
   "source": [
    "print(my_sound[-3].left)"
   ]
  },
  {
   "cell_type": "code",
   "execution_count": null,
   "id": "headed-header",
   "metadata": {},
   "outputs": [],
   "source": [
    "print(my_sound[-1].right)"
   ]
  },
  {
   "cell_type": "markdown",
   "id": "choice-arizona",
   "metadata": {},
   "source": [
    "We can use the len function to get the length of our sound"
   ]
  },
  {
   "cell_type": "code",
   "execution_count": null,
   "id": "korean-temple",
   "metadata": {},
   "outputs": [],
   "source": [
    "len(my_sound)"
   ]
  },
  {
   "cell_type": "markdown",
   "id": "fresh-wonder",
   "metadata": {},
   "source": [
    "---\n",
    "\n",
    "Given the code below, which of the following lines will result in an error? **This is a poll question.**\n",
    "\n",
    "|||\n",
    "|---|---|\n",
    "|A.|print(my_snd.left)|\n",
    "|B.|print(sample.left)|\n",
    "|C.|Both A and B|\n",
    "|D.|Neither A nor B|"
   ]
  },
  {
   "cell_type": "code",
   "execution_count": null,
   "id": "great-parade",
   "metadata": {},
   "outputs": [],
   "source": [
    "import sound\n",
    "my_snd = sound.load_sound(\"test.wav\")\n",
    "sample = my_snd[0]"
   ]
  },
  {
   "cell_type": "code",
   "execution_count": null,
   "id": "dramatic-decision",
   "metadata": {},
   "outputs": [],
   "source": []
  },
  {
   "cell_type": "markdown",
   "id": "stuck-photographer",
   "metadata": {},
   "source": [
    "---\n",
    "\n",
    "What will the left channel waveform of the returned sound look like? **This is a poll question.**\n",
    "\n",
    "<img src=\"sound_original.png\" alt=\"v_s\" width=\"300\"/>\n",
    "\n",
    "|||||\n",
    "|---|---|---|---|\n",
    "|A.|<img src=\"sound_a.png\" alt=\"v_s\" width=\"300\"/>|B.|<img src=\"sound_b.png\" alt=\"v_s\" width=\"300\"/>|\n",
    "|C.|<img src=\"sound_c.png\" alt=\"v_s\" width=\"300\"/>|D.|None of the others.|"
   ]
  },
  {
   "cell_type": "code",
   "execution_count": null,
   "id": "functional-entrepreneur",
   "metadata": {},
   "outputs": [],
   "source": [
    "def mystery_filter(orig):\n",
    "    ns = orig.copy()\n",
    "    for i in range(len(ns)//2):\n",
    "        samp = ns[i]\n",
    "        if samp.left < 0:\n",
    "            samp.left = -1 * samp.left\n",
    "    return ns"
   ]
  },
  {
   "cell_type": "markdown",
   "id": "moral-pierce",
   "metadata": {},
   "source": [
    "---\n",
    "**Group discussion** What changes would we make to modify only the last half of the sound?\n",
    "\n"
   ]
  },
  {
   "cell_type": "code",
   "execution_count": null,
   "id": "third-outline",
   "metadata": {},
   "outputs": [],
   "source": [
    "def mystery_filter(orig):\n",
    "    ns = orig.copy()\n",
    "    for i in range(len(ns)//2):\n",
    "        samp = ns[i]\n",
    "        if samp.left < 0:\n",
    "            samp.left = -1 * samp.left\n",
    "    return ns"
   ]
  },
  {
   "cell_type": "markdown",
   "id": "incident-solid",
   "metadata": {},
   "source": [
    "---\n",
    "**Discuss in a group** Is it ok to indent the \"return ns\" line?\n"
   ]
  },
  {
   "cell_type": "code",
   "execution_count": null,
   "id": "accessible-header",
   "metadata": {},
   "outputs": [],
   "source": [
    "def mystery_filter(orig):\n",
    "    ns = sound.copy(orig)\n",
    "    for i in range(len(ns)//2):\n",
    "        samp = ns[i]\n",
    "        if samp.left < 0:\n",
    "            samp.left = -1 * samp.left\n",
    "        return ns  # indented this line"
   ]
  },
  {
   "cell_type": "markdown",
   "id": "functional-substance",
   "metadata": {},
   "source": [
    "---\n",
    "What is returned, assuming snd is the given Sound object? **This is a poll question.**\n",
    "\n",
    "|||||\n",
    "|---|---|---|---|\n",
    "|(20,0)|(25,8)|(15,35)|(0,-5)|\n",
    "|0|1|2|3|\n",
    "\n",
    "\n",
    "|||\n",
    "|---|---|\n",
    "|A.|0|\n",
    "|B.|1|\n",
    "|C.|2|\n",
    "|D.|3|\n",
    "|E.|4|"
   ]
  },
  {
   "cell_type": "code",
   "execution_count": 3,
   "id": "spectacular-substitute",
   "metadata": {},
   "outputs": [],
   "source": [
    "def wowzers(snd):\n",
    "    val = 0\n",
    "\n",
    "    for i in range(1, len(snd)):\n",
    "        samp = snd[i]\n",
    "        if (samp.left > samp.right):\n",
    "            val = val + 1\n",
    "\n",
    "    return val"
   ]
  },
  {
   "cell_type": "markdown",
   "id": "given-nelson",
   "metadata": {},
   "source": [
    "---\n",
    "### Apply it"
   ]
  },
  {
   "cell_type": "markdown",
   "id": "fewer-coast",
   "metadata": {},
   "source": [
    "**In groups** What is returned, assuming snd is the given Sound object and what does the function do (remember to describe it in simple terms)?\n",
    "\n",
    "|||||\n",
    "|---|---|---|---|\n",
    "|(20,0)|(25,8)|(15,35)|(0,-5)|\n",
    "|0|1|2|3|"
   ]
  },
  {
   "cell_type": "code",
   "execution_count": null,
   "id": "possible-telephone",
   "metadata": {},
   "outputs": [],
   "source": [
    "def mysterious(snd):\n",
    "    first = snd[0]\n",
    "    val = abs(first.left)\n",
    "\n",
    "    for i in range(1, len(snd)):\n",
    "        samp = snd[i]\n",
    "        left = abs(samp.left)\n",
    "        if (left > val):\n",
    "            val = left\n",
    "\n",
    "    return val"
   ]
  },
  {
   "cell_type": "raw",
   "id": "greenhouse-clinic",
   "metadata": {},
   "source": []
  }
 ],
 "metadata": {
  "kernelspec": {
   "display_name": "Python 3 (ipykernel)",
   "language": "python",
   "name": "python3"
  },
  "language_info": {
   "codemirror_mode": {
    "name": "ipython",
    "version": 3
   },
   "file_extension": ".py",
   "mimetype": "text/x-python",
   "name": "python",
   "nbconvert_exporter": "python",
   "pygments_lexer": "ipython3",
   "version": "3.11.5"
  }
 },
 "nbformat": 4,
 "nbformat_minor": 5
}
