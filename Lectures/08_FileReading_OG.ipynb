{
 "cells": [
  {
   "cell_type": "markdown",
   "id": "magnetic-stanley",
   "metadata": {},
   "source": [
    "# File Reading"
   ]
  },
  {
   "cell_type": "markdown",
   "id": "naval-pocket",
   "metadata": {},
   "source": [
    "In this unit, we discuss file reading including different ways of reading in data from a file!"
   ]
  },
  {
   "cell_type": "markdown",
   "id": "informational-installation",
   "metadata": {},
   "source": [
    "---\n",
    "## Learning objectives\n",
    "\n",
    "By the end of this unit, you should be able to…\n",
    "\n",
    "- Write code to open a file\n",
    "- Apply split to read information from a file\n",
    "- Write code to read a csv file\n",
    "- Write code to read only one line of a file\n"
   ]
  },
  {
   "cell_type": "markdown",
   "id": "chinese-fountain",
   "metadata": {},
   "source": [
    "---\n",
    "## File reading with loops"
   ]
  },
  {
   "cell_type": "markdown",
   "id": "accomplished-india",
   "metadata": {
    "tags": []
   },
   "source": [
    "### Try it"
   ]
  },
  {
   "cell_type": "markdown",
   "id": "alien-zoning",
   "metadata": {},
   "source": [
    "What’s printed by the following code? **This is a poll question.**\n",
    "\n",
    "|||\n",
    "|---|---|\n",
    "|A.|0|\n",
    "|B.|1|\n",
    "|C.|2|\n",
    "|D.|3|\n",
    "|E.|5|\n",
    "\n",
    "foo.txt contains:<br>\n",
    "May I help you?<br>No, thanks!<br>Do you like the snow?<br>I don’t know.<br>Bye!"
   ]
  },
  {
   "cell_type": "code",
   "execution_count": null,
   "id": "settled-archive",
   "metadata": {},
   "outputs": [],
   "source": [
    "my_file = open(\"foo.txt\", 'r')\n",
    "total = 0\n",
    "for line in my_file:\n",
    "    if 'no' in line:\n",
    "        total = total + 1\n",
    "\n",
    "print(total)"
   ]
  },
  {
   "cell_type": "markdown",
   "id": "illegal-lithuania",
   "metadata": {},
   "source": [
    "What if we change th code like below?"
   ]
  },
  {
   "cell_type": "code",
   "execution_count": null,
   "id": "worldwide-carbon",
   "metadata": {},
   "outputs": [],
   "source": [
    "my_file = open(\"foo.txt\", 'r')\n",
    "total = 0\n",
    "for line in my_file:\n",
    "    if 'no' in line.lower():\n",
    "        total = total + 1\n",
    "\n",
    "print(total)"
   ]
  },
  {
   "cell_type": "markdown",
   "id": "preliminary-indianapolis",
   "metadata": {},
   "source": [
    "---\n",
    "### Learn it"
   ]
  },
  {
   "cell_type": "markdown",
   "id": "positive-termination",
   "metadata": {},
   "source": [
    "We can access a file on our computer using the open function."
   ]
  },
  {
   "cell_type": "code",
   "execution_count": null,
   "id": "major-concern",
   "metadata": {},
   "outputs": [],
   "source": [
    "# opens the file with the file name\n",
    "# and saying we want to read it\n",
    "my_file = open(\"foo.txt\", 'r') \n",
    "\n",
    "# loops through each line of the file\n",
    "for line in my_file:\n",
    "    print(line[:3])"
   ]
  },
  {
   "cell_type": "markdown",
   "id": "ordinary-official",
   "metadata": {},
   "source": [
    "---\n",
    "\n",
    "Using split, we can read in data from Comma Separated Value (CSV) files.\n",
    "\n",
    "chats.csv contains:<br>\n",
    "09/09/2020,Olsen,11:15am,Hello!<br>\n",
    "09/09/2020,Chen,11:22am,Hi!<br>\n",
    "09/09/2020,Olsen,11:34am,Would you like lunch?"
   ]
  },
  {
   "cell_type": "code",
   "execution_count": null,
   "id": "involved-nightlife",
   "metadata": {},
   "outputs": [],
   "source": [
    "my_file = open(\"chats.csv\", \"r\")\n",
    "\n",
    "for line in my_file:\n",
    "    fields = line.split(\",\")\n",
    "    print(fields[1])"
   ]
  },
  {
   "cell_type": "markdown",
   "id": "viral-camel",
   "metadata": {},
   "source": [
    "---\n",
    "\n",
    "What’s printed by the following code? **This is a poll question.**\n",
    "\n",
    "|||\n",
    "|---|---|\n",
    "|A.|0|\n",
    "|B.|2|\n",
    "|C.|6|\n",
    "|D.|9|\n",
    "|E.|10|\n",
    "|F.|13|\n",
    "|G.|19|\n",
    "|H.|Error!|\n",
    "\n",
    "data.csv contains:<br>\n",
    "7,9<br>\n",
    "10,12<br>\n",
    "3,16<br>\n",
    "9,19"
   ]
  },
  {
   "cell_type": "code",
   "execution_count": null,
   "id": "historic-gossip",
   "metadata": {},
   "outputs": [],
   "source": [
    "def file_mystery(filename):\n",
    "    f = open(filename, 'r')\n",
    "    biggest = 0\n",
    "    for line in f:\n",
    "        vals = line.split(',')\n",
    "        diff = int(vals[1]) - int(vals[0])\n",
    "        if diff > biggest:\n",
    "            biggest = diff\n",
    "      \n",
    "    return biggest\n",
    "\n",
    "print(file_mystery(\"data.csv\"))"
   ]
  },
  {
   "cell_type": "markdown",
   "id": "primary-pleasure",
   "metadata": {},
   "source": [
    "With this new file?\n",
    "\n",
    "data2.csv contains:<br>\n",
    "-5,1<br>\n",
    "16,3<br>\n",
    "4,5<br>\n",
    "1,10<br>"
   ]
  },
  {
   "cell_type": "code",
   "execution_count": null,
   "id": "chemical-telescope",
   "metadata": {},
   "outputs": [],
   "source": [
    "print(file_mystery(\"data2.csv\"))"
   ]
  },
  {
   "cell_type": "markdown",
   "id": "czech-ancient",
   "metadata": {},
   "source": [
    "**In groups:** Modify the function so it returns the biggest absolute difference."
   ]
  },
  {
   "cell_type": "code",
   "execution_count": null,
   "id": "hydraulic-inquiry",
   "metadata": {},
   "outputs": [],
   "source": [
    "def file_mystery_v2(filename):\n",
    "    f = open(filename, 'r')\n",
    "    biggest = 0\n",
    "    for line in f:\n",
    "        vals = line.split(',')\n",
    "        diff = int(vals[1]) - int(vals[0])\n",
    "        if diff > biggest:\n",
    "            biggest = diff\n",
    "      \n",
    "    return biggest"
   ]
  },
  {
   "cell_type": "markdown",
   "id": "induced-runner",
   "metadata": {},
   "source": [
    "---\n",
    "The USGS collects data from every earthquake across the world.\n"
   ]
  },
  {
   "cell_type": "code",
   "execution_count": null,
   "id": "noticed-battery",
   "metadata": {},
   "outputs": [],
   "source": [
    "f = open(\"significant_month.txt\",\"r\")\n",
    "\n",
    "for line in f:\n",
    "    print(line)"
   ]
  },
  {
   "cell_type": "markdown",
   "id": "natural-belly",
   "metadata": {},
   "source": [
    "Which expression (XXX) will give us the name of the earthquake’s location? **This is a poll question.**\n",
    "\n",
    "|||\n",
    "|---|---|\n",
    "|A.|fields[6]|\n",
    "|B.|fields[6:]|\n",
    "|C.|fields[-2:]|\n",
    "|D.|fields[-1]|\n",
    "|E.|It cannot be done with one expression.|\n"
   ]
  },
  {
   "cell_type": "code",
   "execution_count": null,
   "id": "french-treasure",
   "metadata": {},
   "outputs": [],
   "source": [
    "eq_file = open('significant_month.txt', \"r\")\n",
    "for line in eq_file:\n",
    "    fields = line.split()\n",
    "    location = XXX"
   ]
  },
  {
   "cell_type": "markdown",
   "id": "prescription-transition",
   "metadata": {},
   "source": [
    "Printing location will result in us printing lists of strings, not a single string."
   ]
  },
  {
   "cell_type": "code",
   "execution_count": null,
   "id": "warming-opening",
   "metadata": {},
   "outputs": [],
   "source": [
    "eq_file = open('significant_month.txt', \"r\")\n",
    "for line in eq_file:\n",
    "    fields = line.split()\n",
    "    location = fields[6:]\n",
    "    print(location)"
   ]
  },
  {
   "cell_type": "markdown",
   "id": "owned-relaxation",
   "metadata": {},
   "source": [
    "We’ll use join to make sure the location name is a single string."
   ]
  },
  {
   "cell_type": "code",
   "execution_count": null,
   "id": "possible-migration",
   "metadata": {},
   "outputs": [],
   "source": [
    "eq_file = open('significant_month.txt', \"r\")\n",
    "for line in eq_file:\n",
    "    fields = line.split()\n",
    "    location = \" \".join(fields[6:])\n",
    "    print(location)"
   ]
  },
  {
   "cell_type": "markdown",
   "id": "alone-aberdeen",
   "metadata": {},
   "source": [
    "---\n",
    "### Apply it"
   ]
  },
  {
   "cell_type": "markdown",
   "id": "fantastic-firewall",
   "metadata": {},
   "source": [
    "**In groups** What is printed while running this code?\n",
    "\n",
    "eq2.txt containts:<br>\n",
    "2.0 2006/10/19 02:02:10 62.391 -149.751 15.0 CENTRAL ALASKA<br>\n",
    "4.0 2006/10/19 00:31:15 20.119 -156.213 1.5 MAUI REGION, HAWAII<br>\n",
    "5.0 2006/10/18 21:15:51 4.823 -82.592 37.3 SOUTH OF PANAMA<br>\n",
    "3.0 2006/10/18 21:12:25 59.934 -147.904 30.0 GULF OF ALASKA<br>\n"
   ]
  },
  {
   "cell_type": "code",
   "execution_count": null,
   "id": "medieval-overview",
   "metadata": {},
   "outputs": [],
   "source": [
    "eq_file = open(\"eq2.txt\", 'r')\n",
    "sum = 0.0\n",
    "num_lines = 0\n",
    "for line in eq_file:\n",
    "    fields = line.split()\n",
    "    sum = sum + float(fields[0])\n",
    "    num_lines = num_lines + 1\n",
    "\n",
    "print(sum / num_lines)"
   ]
  },
  {
   "cell_type": "markdown",
   "id": "cloudy-grove",
   "metadata": {},
   "source": [
    "What if eq2.txt was empty? What error does this code have? How would we change the code to avoid that error?"
   ]
  },
  {
   "cell_type": "code",
   "execution_count": null,
   "id": "unexpected-cleaner",
   "metadata": {},
   "outputs": [],
   "source": [
    "eq_file = open(\"eq2.txt\", 'r')\n",
    "sum = 0.0\n",
    "num_lines = 0\n",
    "for line in eq_file:\n",
    "    fields = line.split()\n",
    "    sum = sum + float(fields[0])\n",
    "    num_lines = num_lines + 1\n",
    "\n",
    "print(sum / num_lines)"
   ]
  },
  {
   "cell_type": "markdown",
   "id": "backed-patent",
   "metadata": {},
   "source": [
    "---\n",
    "## Readline\n",
    "\n",
    "### Try it\n",
    "\n",
    "**Group discussion:** What is printed if eq2.txt has a header row?\n",
    "\n",
    "eq2.txt containts:<br>\n",
    "mag date time lat long dep loc<br>\n",
    "2.0 2006/10/19 02:02:10 62.391 -149.751 15.0 CENTRAL ALASKA<br>\n",
    "4.0 2006/10/19 00:31:15 20.119 -156.213 1.5 MAUI REGION, HAWAII<br>\n",
    "5.0 2006/10/18 21:15:51 4.823 -82.592 37.3 SOUTH OF PANAMA<br>\n",
    "3.0 2006/10/18 21:12:25 59.934 -147.904 30.0 GULF OF ALASKA<br>\n"
   ]
  },
  {
   "cell_type": "code",
   "execution_count": null,
   "id": "amended-logging",
   "metadata": {},
   "outputs": [],
   "source": [
    "eq_file = open(\"eq2.txt\", 'r')\n",
    "sum = 0.0\n",
    "num_lines = 0\n",
    "for line in eq_file:\n",
    "    fields = line.split()\n",
    "    sum = sum + float(fields[0])\n",
    "    num_lines = num_lines + 1\n",
    "\n",
    "print(sum / num_lines)"
   ]
  },
  {
   "cell_type": "raw",
   "id": "hazardous-arthritis",
   "metadata": {},
   "source": []
  },
  {
   "cell_type": "markdown",
   "id": "breeding-railway",
   "metadata": {},
   "source": [
    "---\n",
    "\n",
    "### Learn it\n",
    "\n",
    "We can use the file object’s readline method to read a single line at a time."
   ]
  },
  {
   "cell_type": "code",
   "execution_count": null,
   "id": "ancient-depth",
   "metadata": {},
   "outputs": [],
   "source": [
    "eq_file = open('significant_month.txt', \"r\")\n",
    "eq_file.readline()"
   ]
  },
  {
   "cell_type": "code",
   "execution_count": null,
   "id": "bacterial-remove",
   "metadata": {},
   "outputs": [],
   "source": [
    "line2 = eq_file.readline()\n",
    "print(line2)"
   ]
  },
  {
   "cell_type": "code",
   "execution_count": null,
   "id": "occupied-collins",
   "metadata": {},
   "outputs": [],
   "source": [
    "eq_file.readline().split()"
   ]
  },
  {
   "cell_type": "markdown",
   "id": "yellow-shirt",
   "metadata": {},
   "source": [
    "---\n",
    "This code uses a priming read to initialize some of the data. A priming read is often used to deal with a \"header row\" in a data file."
   ]
  },
  {
   "cell_type": "code",
   "execution_count": null,
   "id": "informative-andorra",
   "metadata": {},
   "outputs": [],
   "source": [
    "eq_file = open('significant_month.txt', \"r\")\n",
    "#reads the header\n",
    "eq_file.readline()\n",
    "# loop through the remaining lines\n",
    "for line in eq_file:\n",
    "    fields = line.split()\n",
    "    location = \" \".join(fields[6:])\n",
    "    print(location)"
   ]
  },
  {
   "cell_type": "markdown",
   "id": "molecular-somerset",
   "metadata": {},
   "source": [
    "---\n",
    "\n",
    "Readline returns an empty string when it reaches the end of a file"
   ]
  },
  {
   "cell_type": "code",
   "execution_count": null,
   "id": "reflected-attempt",
   "metadata": {},
   "outputs": [],
   "source": [
    "f = open(\"eq2.txt\", \"r\")\n",
    "if f.readline() == \"\":\n",
    "    print(\"The file is empty\")"
   ]
  },
  {
   "cell_type": "markdown",
   "id": "emotional-flash",
   "metadata": {},
   "source": [
    "---\n",
    "\n",
    "### Apply it\n",
    "\n",
    "**In groups** What is printed while running the following code for these files?\n",
    "\n",
    "temps.csv contains:<br>\n",
    "7:00,62<br>\n",
    "8:00,64<br>\n",
    "9:00,68<br>\n",
    "10:00,71<br>\n",
    "\n",
    "temps2.csv contains:<br>\n",
    "19:00,59<br>\n",
    "20:00,61<br>\n",
    "21:00,60<br>\n",
    "22:00,55<br>\n"
   ]
  },
  {
   "cell_type": "code",
   "execution_count": null,
   "id": "subject-masters",
   "metadata": {},
   "outputs": [],
   "source": [
    "def temps_mystery(filename):\n",
    "    f = open(filename, 'r')\n",
    "    vals = f.readline().split(\",\")\n",
    "    previous = int(vals[1])\n",
    "    biggest = 0\n",
    "    for line in f:\n",
    "        vals = line.split(\",\")\n",
    "        current = int(vals[1])\n",
    "        diff = current - previous\n",
    "        if diff > biggest:\n",
    "            biggest = diff\n",
    "        previous = current\n",
    "      \n",
    "    return biggest"
   ]
  },
  {
   "cell_type": "code",
   "execution_count": null,
   "id": "common-microwave",
   "metadata": {},
   "outputs": [],
   "source": [
    "print(temps_mystery(\"temps.csv\"))"
   ]
  },
  {
   "cell_type": "code",
   "execution_count": null,
   "id": "impressed-atlantic",
   "metadata": {},
   "outputs": [],
   "source": [
    "print(temps_mystery(\"temps2.csv\"))"
   ]
  }
 ],
 "metadata": {
  "kernelspec": {
   "display_name": "Python 3 (ipykernel)",
   "language": "python",
   "name": "python3"
  },
  "language_info": {
   "codemirror_mode": {
    "name": "ipython",
    "version": 3
   },
   "file_extension": ".py",
   "mimetype": "text/x-python",
   "name": "python",
   "nbconvert_exporter": "python",
   "pygments_lexer": "ipython3",
   "version": "3.8.5"
  }
 },
 "nbformat": 4,
 "nbformat_minor": 5
}
