{
 "cells": [
  {
   "cell_type": "markdown",
   "id": "dense-mainland",
   "metadata": {},
   "source": [
    "# Objects, Classes, and Modules"
   ]
  },
  {
   "cell_type": "markdown",
   "id": "thousand-swedish",
   "metadata": {},
   "source": [
    "In this unit, we will begin our discussion of what an object is, how we can outline them with a class, and how to call existing code through modules."
   ]
  },
  {
   "cell_type": "markdown",
   "id": "rolled-stranger",
   "metadata": {},
   "source": [
    "---\n",
    "## Learning objectives\n",
    "\n",
    "By the end of this unit, you should be able to…\n",
    "\n",
    "- Describe a class and its different components\n",
    "- Import a module to use in your code\n"
   ]
  },
  {
   "cell_type": "markdown",
   "id": "criminal-lightning",
   "metadata": {},
   "source": [
    "---\n",
    "## Classes and Objects"
   ]
  },
  {
   "cell_type": "markdown",
   "id": "clear-yorkshire",
   "metadata": {},
   "source": [
    "### Try it"
   ]
  },
  {
   "cell_type": "markdown",
   "id": "impressive-bailey",
   "metadata": {},
   "source": [
    "**Group Discussion** What is an object in Python? Why is it important?"
   ]
  },
  {
   "cell_type": "raw",
   "id": "eligible-mount",
   "metadata": {},
   "source": [
    "instance of a class----1)Reusability 2)Modularity"
   ]
  },
  {
   "cell_type": "markdown",
   "id": "experimental-terrain",
   "metadata": {},
   "source": [
    "---\n",
    "### Learn it"
   ]
  },
  {
   "cell_type": "markdown",
   "id": "sporting-wildlife",
   "metadata": {},
   "source": [
    "Objects are defined by classes. \n",
    "\n",
    "A class is like a blueprint or the cookie cutter. It outlines what that object is like.\n",
    "\n",
    "<img src=\"cookies.png\" alt=\"cookies\"/>"
   ]
  },
  {
   "cell_type": "markdown",
   "id": "descending-carry",
   "metadata": {},
   "source": [
    "---\n",
    "Let's take a mug as an example.\n",
    "\n",
    "What are the traits (attributes) of a mug?"
   ]
  },
  {
   "cell_type": "raw",
   "id": "analyzed-montana",
   "metadata": {},
   "source": [
    "color, shape, size, how much liquid they can hold, lid, mass, material, insulative properties"
   ]
  },
  {
   "cell_type": "markdown",
   "id": "cardiovascular-crossing",
   "metadata": {},
   "source": [
    "What can a mug do (methods)?"
   ]
  },
  {
   "cell_type": "raw",
   "id": "consistent-climate",
   "metadata": {},
   "source": [
    "hold liquid, pour liquid, sit on a space, insulate liquid, tilt,"
   ]
  },
  {
   "cell_type": "markdown",
   "id": "planned-gardening",
   "metadata": {},
   "source": [
    "A **specific** mug is an instance of a mug.\n",
    "\n",
    "When we call the methods, we are invoking them.\n",
    "\n",
    "The current values of the attributes is the state of the mug.\n"
   ]
  },
  {
   "cell_type": "markdown",
   "id": "coastal-configuration",
   "metadata": {},
   "source": [
    "---\n",
    "### Apply it"
   ]
  },
  {
   "cell_type": "markdown",
   "id": "progressive-sunday",
   "metadata": {},
   "source": [
    "**In groups** Let’s match terms with definitions\n",
    "\n",
    "|||\n",
    "|---|---|\n",
    "|1. Object|A. Collection of data and methods|\n",
    "|2. Class|B. Values of the attributes of an object|\n",
    "|3. Instance|C. Blueprint for an object|\n",
    "|4. Method|D. Variables of a class|\n",
    "|5. Attribute|E. Capabilities of a class|\n",
    "|6. Invoke|F. Calling of a method for an instance of a class|\n",
    "|7. State|G. Concrete occurance of a class|"
   ]
  },
  {
   "cell_type": "markdown",
   "id": "united-assistant",
   "metadata": {},
   "source": [
    "---\n",
    "## Modules"
   ]
  },
  {
   "cell_type": "markdown",
   "id": "statistical-framework",
   "metadata": {},
   "source": [
    "### Try it"
   ]
  },
  {
   "cell_type": "markdown",
   "id": "coated-placement",
   "metadata": {},
   "source": [
    "**Group Discussion** Imagine that you look at some Python code and see a lot of parts that look very similar. Is this good or bad? Explain why.\n"
   ]
  },
  {
   "cell_type": "raw",
   "id": "indian-traveler",
   "metadata": {},
   "source": []
  },
  {
   "cell_type": "markdown",
   "id": "considered-quantum",
   "metadata": {},
   "source": [
    "---\n",
    "### Learn it"
   ]
  },
  {
   "cell_type": "markdown",
   "id": "aggregate-framing",
   "metadata": {},
   "source": [
    "When you want to use code outside your file: Python modules make programming easier by adding new abstractions.\n",
    "\n",
    "- Step 1: Import the module\n",
    "    - import turtle\n",
    "- Step 2: Access features of the module using the dot operator.\n",
    "    - yertle = turtle.Turtle()\n",
    "    - window = turtle.Screen()"
   ]
  },
  {
   "cell_type": "code",
   "execution_count": 1,
   "id": "junior-aspect",
   "metadata": {},
   "outputs": [],
   "source": [
    "import turtle\n",
    "\n",
    "yertle = turtle.Turtle()\n",
    "window = turtle.Screen()"
   ]
  },
  {
   "cell_type": "markdown",
   "id": "stock-calgary",
   "metadata": {},
   "source": [
    "---\n",
    "Terminology: Which is correct? **This is a poll question**\n",
    "\n"
   ]
  },
  {
   "cell_type": "code",
   "execution_count": null,
   "id": "correct-acrobat",
   "metadata": {},
   "outputs": [],
   "source": [
    "yertle = turtle.Turtle()\n",
    "\n",
    "yertle.left(45)\n",
    "# 1.    2.   3\n"
   ]
  },
  {
   "cell_type": "markdown",
   "id": "future-earthquake",
   "metadata": {},
   "source": [
    "|||\n",
    "|---|---|\n",
    "|A.|1. Type, 2. capability, 3. options list|\n",
    "|B.|1. Class, 2. attribute,  3. attribute list|\n",
    "|C.|1. Object, 2. method name, 3. parameter list|"
   ]
  },
  {
   "cell_type": "markdown",
   "id": "digital-honey",
   "metadata": {},
   "source": [
    "---\n",
    "Which of the following best represents the screen after running the given code? **This is a poll question.**\n"
   ]
  },
  {
   "cell_type": "code",
   "execution_count": null,
   "id": "measured-gazette",
   "metadata": {},
   "outputs": [],
   "source": [
    "import turtle\n",
    "\n",
    "maria = turtle.Turtle()\n",
    "maria.goto(25, 25)\n",
    "jose = turtle.Turtle()\n",
    "maria.forward(25)\n",
    "jose.forward(10)\n",
    "maria.left(90)\n",
    "maria.forward(50)"
   ]
  },
  {
   "cell_type": "markdown",
   "id": "finnish-desktop",
   "metadata": {},
   "source": [
    "|||||\n",
    "|---|---|---|---|\n",
    "|A.|<img src=\"turtleA.png\" alt=\"v_s\" width=\"300\"/>|B.|<img src=\"turtleB.png\" alt=\"v_s\" width=\"300\"/>|\n",
    "|C.|<img src=\"turtleC.png\" alt=\"v_s\" width=\"300\"/>|D.|<img src=\"turtleD.png\" alt=\"v_s\" width=\"300\"/>|"
   ]
  },
  {
   "cell_type": "markdown",
   "id": "third-novel",
   "metadata": {},
   "source": [
    "---\n",
    "There are many turtle methods, but you can stick to these.\n",
    "\n",
    "Movement:\n",
    "- forward(int)\n",
    "- backward(int)\n",
    "- goto(int, int)\n",
    "- left(float)\n",
    "- right(float)\n",
    "- setheading(float)\n",
    "- up()\n",
    "- down()\n",
    "\n",
    "Appearance:\n",
    "- pensize(int)\n",
    "- pencolor(str)\n",
    "- showturtle()\n",
    "- hideturtle()\n",
    "\n",
    "Info:\n",
    "- heading()\n",
    "- pensize()\n",
    "- pencolor()"
   ]
  },
  {
   "cell_type": "markdown",
   "id": "sharp-tablet",
   "metadata": {},
   "source": [
    "---\n",
    "turtle is not the only module. You also have things like math or random"
   ]
  },
  {
   "cell_type": "code",
   "execution_count": null,
   "id": "varying-pepper",
   "metadata": {},
   "outputs": [],
   "source": [
    "import math\n",
    "import random\n",
    "\n",
    "print(math.sqrt(25))\n",
    "print(random.random())"
   ]
  },
  {
   "cell_type": "markdown",
   "id": "threaded-developer",
   "metadata": {},
   "source": [
    "---\n",
    "### Apply it\n",
    "\n",
    "**In groups** Draw the screen for the following sets of turtle actions. Assume each turtle starts at coordinate (0,0). (Middle of the screen.)"
   ]
  },
  {
   "cell_type": "code",
   "execution_count": null,
   "id": "extraordinary-miami",
   "metadata": {},
   "outputs": [],
   "source": [
    "maria.left(90)\n",
    "maria.forward(30)"
   ]
  },
  {
   "cell_type": "code",
   "execution_count": null,
   "id": "engaging-indonesia",
   "metadata": {},
   "outputs": [],
   "source": [
    "jose.right(-45)\n",
    "jose.forward(10)"
   ]
  },
  {
   "cell_type": "code",
   "execution_count": null,
   "id": "together-connectivity",
   "metadata": {},
   "outputs": [],
   "source": [
    "raul.right(90)\n",
    "raul.forward(200)"
   ]
  },
  {
   "cell_type": "code",
   "execution_count": null,
   "id": "useful-proportion",
   "metadata": {},
   "outputs": [],
   "source": [
    "Turtle.right(405)\n",
    "Turtle.forward(-10)"
   ]
  }
 ],
 "metadata": {
  "kernelspec": {
   "display_name": "Python 3 (ipykernel)",
   "language": "python",
   "name": "python3"
  },
  "language_info": {
   "codemirror_mode": {
    "name": "ipython",
    "version": 3
   },
   "file_extension": ".py",
   "mimetype": "text/x-python",
   "name": "python",
   "nbconvert_exporter": "python",
   "pygments_lexer": "ipython3",
   "version": "3.11.5"
  }
 },
 "nbformat": 4,
 "nbformat_minor": 5
}
