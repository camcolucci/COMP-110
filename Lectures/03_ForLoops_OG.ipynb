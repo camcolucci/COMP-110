{
 "cells": [
  {
   "cell_type": "markdown",
   "id": "understanding-baghdad",
   "metadata": {},
   "source": [
    "# For loops"
   ]
  },
  {
   "cell_type": "markdown",
   "id": "numerical-startup",
   "metadata": {},
   "source": [
    "In this unit, we will learn about how to repeat a set of code using a for loop. This is another way to reduce writing the same code over and over."
   ]
  },
  {
   "cell_type": "markdown",
   "id": "recognized-principal",
   "metadata": {},
   "source": [
    "---\n",
    "## Learning objectives\n",
    "\n",
    "By the end of this class, you should be able to…\n",
    "\n",
    "- Explain what is happening in code using a for loop\n",
    "- Write a for loop in python\n"
   ]
  },
  {
   "cell_type": "markdown",
   "id": "russian-people",
   "metadata": {},
   "source": [
    "---\n",
    "## For loops"
   ]
  },
  {
   "cell_type": "markdown",
   "id": "friendly-treatment",
   "metadata": {},
   "source": [
    "### Try it"
   ]
  },
  {
   "cell_type": "markdown",
   "id": "amateur-marathon",
   "metadata": {},
   "source": [
    "How many times will “OK, see you!” be printed? **This is a poll question.**\n",
    "\n",
    "|||\n",
    "|---|---|\n",
    "|A.|0|\n",
    "|B.|1|\n",
    "|C.|3|\n",
    "|D.|4|\n",
    "|E.|10|"
   ]
  },
  {
   "cell_type": "code",
   "execution_count": 1,
   "id": "illegal-thomson",
   "metadata": {},
   "outputs": [
    {
     "name": "stdout",
     "output_type": "stream",
     "text": [
      "OK, see you!\n",
      "OK, see you!\n",
      "OK, see you!\n",
      "OK, see you!\n"
     ]
    }
   ],
   "source": [
    "for i in range(0, 10, 3):\n",
    "    print(\"OK, see you!\")"
   ]
  },
  {
   "cell_type": "markdown",
   "id": "executed-prototype",
   "metadata": {},
   "source": [
    "---\n",
    "### Learn it"
   ]
  },
  {
   "cell_type": "markdown",
   "id": "gross-subsection",
   "metadata": {},
   "source": [
    "We often want to repeat the same action over and over again.\n",
    "\n",
    "Examples:\n",
    "- Move all the turtles to a new location\n",
    "- Refill all cups of coffee at the table\n",
    "- Grade all assignments\n",
    "\n",
    "Python has two types of loops\n",
    "\n",
    "1. for item in sequence:\n",
    "    - One iteration for every item in a sequence\n",
    "2. while i < 100:\n",
    "    - Keep repeating as long as the expression evaluates to True.\n",
    "\n"
   ]
  },
  {
   "cell_type": "markdown",
   "id": "public-pleasure",
   "metadata": {},
   "source": [
    "---\n",
    "Without loops, there is a lot more code to write.\n",
    "\n",
    "**Can you spot the copy/paste errors?**"
   ]
  },
  {
   "cell_type": "code",
   "execution_count": null,
   "id": "worst-inquiry",
   "metadata": {},
   "outputs": [],
   "source": [
    "nelly = turtle.Turtle()\n",
    "nelly.up()\n",
    "nelly.goto(50, 50)\n",
    "nelly.down()\n",
    "nelly.forward(50)\n",
    "nelly.up()\n",
    "nelly.goto(100, 100)\n",
    "nelly.forward(50)\n",
    "nelly.up()\n",
    "nelly.goto(150, 150)\n",
    "nelly.down()\n",
    "nelly.forward(50)\n",
    "nelly.up()\n",
    "elly.goto(200, 200)\n",
    "nelly.down()\n",
    "nelly.forward(50)"
   ]
  },
  {
   "cell_type": "markdown",
   "id": "little-cleaners",
   "metadata": {},
   "source": [
    "---\n",
    "A common way of going through a for loop is to go through a sequence of numbers.\n",
    "\n",
    "range() provides us with this sequence (or you can just type in a sequence!)\n",
    "\n",
    "**range(val) means we go from 0 up to (not including) val incrementing by 1.**"
   ]
  },
  {
   "cell_type": "code",
   "execution_count": null,
   "id": "smaller-catalog",
   "metadata": {},
   "outputs": [],
   "source": [
    "for i in range(4):\n",
    "    print(i)"
   ]
  },
  {
   "cell_type": "markdown",
   "id": "parliamentary-decrease",
   "metadata": {},
   "source": [
    "**range(val_1,val_2) means we go from val_1 up to (not including) val_2 incrementing by 1.**\n"
   ]
  },
  {
   "cell_type": "code",
   "execution_count": null,
   "id": "caroline-mauritius",
   "metadata": {},
   "outputs": [],
   "source": [
    "for i in range(2,4):\n",
    "    print(i)"
   ]
  },
  {
   "cell_type": "markdown",
   "id": "configured-excess",
   "metadata": {},
   "source": [
    "**range(val_1,val_2,val_3) means we go from val_1 up to (not including) val_2 incrementing by val_3.**"
   ]
  },
  {
   "cell_type": "code",
   "execution_count": null,
   "id": "architectural-instrument",
   "metadata": {},
   "outputs": [],
   "source": [
    "for i in range(4,2,-1):\n",
    "    print(i)"
   ]
  },
  {
   "cell_type": "markdown",
   "id": "adopted-recipient",
   "metadata": {},
   "source": [
    "---\n",
    "How many of these will make a loop that prints “Another One!” four times? **This is a poll question.**\n",
    "\n",
    "|||\n",
    "|---|---|\n",
    "|A.|1|\n",
    "|B.|2|\n",
    "|C.|3|\n",
    "|D.|4|\n",
    "|E.|5|"
   ]
  },
  {
   "cell_type": "code",
   "execution_count": null,
   "id": "fuzzy-france",
   "metadata": {},
   "outputs": [],
   "source": [
    "for i in range(5):\n",
    "    print(\"Another one!\")"
   ]
  },
  {
   "cell_type": "code",
   "execution_count": null,
   "id": "emerging-korea",
   "metadata": {},
   "outputs": [],
   "source": [
    "for n in range(-4, 0):\n",
    "    print('Another one!')"
   ]
  },
  {
   "cell_type": "code",
   "execution_count": null,
   "id": "dynamic-pension",
   "metadata": {},
   "outputs": [],
   "source": [
    "for i in [1, 2, 3, 4]:\n",
    "    print(\"Another one!\")"
   ]
  },
  {
   "cell_type": "code",
   "execution_count": null,
   "id": "downtown-robertson",
   "metadata": {},
   "outputs": [],
   "source": [
    "for i in ['a','b',\"c\",'d']:\n",
    "    print(\"Another one!\")"
   ]
  },
  {
   "cell_type": "code",
   "execution_count": null,
   "id": "aggressive-noise",
   "metadata": {},
   "outputs": [],
   "source": [
    "for i in ['1','2','3','4']:\n",
    "    print(\"Another one!\")"
   ]
  },
  {
   "cell_type": "markdown",
   "id": "junior-recipient",
   "metadata": {},
   "source": [
    "---\n",
    "What is wrong with the following code?"
   ]
  },
  {
   "cell_type": "code",
   "execution_count": null,
   "id": "specialized-pierce",
   "metadata": {},
   "outputs": [],
   "source": [
    "import turtle\n",
    "leonardo = turtle.Turtle()\n",
    "michelangelo = turtle.Turtle()\n",
    "donatello = turtle.Turtle()\n",
    "window = turtle.Screen()\n",
    "for shell in [leonardo, michelangelo, donatello]:\n",
    "shell.color('blue')\n",
    "shell.up()\n",
    "# always have this line at the end of your file\n",
    "window.exitonclick()"
   ]
  },
  {
   "cell_type": "markdown",
   "id": "pharmaceutical-instruction",
   "metadata": {},
   "source": [
    "---\n",
    "What does this code do? **This is a poll question.**\n",
    "\n",
    "|||\n",
    "|---|---|\n",
    "|A.|Makes a turtle draw a decagon (i.e. 10-sided polygon)|\n",
    "|B.|Makes a turtle move back and forth over the same line five times.|\n",
    "|C.|Makes a turtle draw what looks like five mountain peaks.|\n",
    "|D.|Turns the turtle northeast then for all integers in the range 0 to 9, makes the turtle go forward before changing its direction to be -1 times the previous direction.|\n",
    "|E.|None of the above.|"
   ]
  },
  {
   "cell_type": "code",
   "execution_count": null,
   "id": "exact-belle",
   "metadata": {},
   "outputs": [],
   "source": [
    "t = turtle.Turtle()\n",
    "length = int(input(\"Enter length: \"))\n",
    "t.setheading(45.0) # 45 degrees is northeast\n",
    "for i in range(10):\n",
    "    t.forward(length)\n",
    "    t.setheading(-1.0 * t.heading())"
   ]
  },
  {
   "cell_type": "raw",
   "id": "secure-growing",
   "metadata": {},
   "source": []
  },
  {
   "cell_type": "markdown",
   "id": "interesting-heading",
   "metadata": {},
   "source": [
    "---\n",
    "### Apply it"
   ]
  },
  {
   "cell_type": "markdown",
   "id": "herbal-alexander",
   "metadata": {},
   "source": [
    "**In groups** What changes are needed to produce each of these drawings?"
   ]
  },
  {
   "cell_type": "code",
   "execution_count": null,
   "id": "literary-chocolate",
   "metadata": {},
   "outputs": [],
   "source": [
    "nelly = turtle.Turtle()\n",
    "for i in range(4):\n",
    "    nelly.up()\n",
    "    nelly.goto(i*50, i*50)\n",
    "    nelly.down()\n",
    "    nelly.forward(50)"
   ]
  },
  {
   "cell_type": "markdown",
   "id": "exclusive-floating",
   "metadata": {},
   "source": [
    "<img src=\"turtle_1.png\" alt=\"v_s\" width=\"300\"/>"
   ]
  },
  {
   "cell_type": "code",
   "execution_count": null,
   "id": "extra-contractor",
   "metadata": {},
   "outputs": [],
   "source": []
  },
  {
   "cell_type": "markdown",
   "id": "terminal-security",
   "metadata": {},
   "source": [
    "<img src=\"turtle_2.png\" alt=\"v_s\" width=\"300\"/>"
   ]
  },
  {
   "cell_type": "code",
   "execution_count": null,
   "id": "guilty-tours",
   "metadata": {},
   "outputs": [],
   "source": []
  },
  {
   "cell_type": "markdown",
   "id": "returning-jungle",
   "metadata": {},
   "source": [
    "<img src=\"turtle_3.png\" alt=\"v_s\" width=\"300\"/>"
   ]
  },
  {
   "cell_type": "code",
   "execution_count": null,
   "id": "pleased-right",
   "metadata": {},
   "outputs": [],
   "source": []
  }
 ],
 "metadata": {
  "kernelspec": {
   "display_name": "Python 3 (ipykernel)",
   "language": "python",
   "name": "python3"
  },
  "language_info": {
   "codemirror_mode": {
    "name": "ipython",
    "version": 3
   },
   "file_extension": ".py",
   "mimetype": "text/x-python",
   "name": "python",
   "nbconvert_exporter": "python",
   "pygments_lexer": "ipython3",
   "version": "3.11.5"
  }
 },
 "nbformat": 4,
 "nbformat_minor": 5
}
