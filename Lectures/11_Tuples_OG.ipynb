{
 "cells": [
  {
   "cell_type": "markdown",
   "id": "deluxe-house",
   "metadata": {},
   "source": [
    "# Tuples"
   ]
  },
  {
   "cell_type": "markdown",
   "id": "composite-publication",
   "metadata": {
    "tags": []
   },
   "source": [
    "In this unit, we will discuss the use of tuples compared to lists."
   ]
  },
  {
   "cell_type": "markdown",
   "id": "amateur-shooting",
   "metadata": {},
   "source": [
    "---\n",
    "## Learning objectives\n",
    "\n",
    "By the end of this class, you should be able to…\n",
    "- Construct tuples in your programs\n",
    "\n",
    "\n"
   ]
  },
  {
   "cell_type": "markdown",
   "id": "legitimate-interference",
   "metadata": {},
   "source": [
    "---\n",
    "## Tuples"
   ]
  },
  {
   "cell_type": "markdown",
   "id": "narrow-burden",
   "metadata": {},
   "source": [
    "### Try it\n",
    "\n",
    "What is printed with the following code? **This is a poll question**\n",
    "\n",
    "|||\n",
    "|---|---|\n",
    "|A.|(1, 2, 3, 4, 5)|\n",
    "|B.|(2, 4, 6, 8, 10)|\n",
    "|C.|[2, 4, 6, 8, 10]|\n",
    "|D.|5|\n",
    "|E.|Error!|"
   ]
  },
  {
   "cell_type": "code",
   "execution_count": null,
   "id": "olympic-geometry",
   "metadata": {},
   "outputs": [],
   "source": [
    "def oink_t(my_tuple):\n",
    "    for i in range(len(my_tuple)):\n",
    "        my_tuple[i] = my_tuple[i] * 2\n",
    "\n",
    "our_tuple = (1,2,3,4,5)\n",
    "oink_t(our_tuple)\n",
    "print(our_tuple)"
   ]
  },
  {
   "cell_type": "markdown",
   "id": "lasting-poultry",
   "metadata": {},
   "source": [
    "---\n",
    "### Learn it\n",
    "\n",
    "Tuples are lists that cannot be modified, i.e. are immutable like strings.\n",
    "\n",
    "**What do you think happens when we run each of the following?**"
   ]
  },
  {
   "cell_type": "code",
   "execution_count": 1,
   "id": "wound-industry",
   "metadata": {
    "tags": []
   },
   "outputs": [
    {
     "data": {
      "text/plain": [
       "tuple"
      ]
     },
     "execution_count": 1,
     "metadata": {},
     "output_type": "execute_result"
    }
   ],
   "source": [
    "import turtle\n",
    "\n",
    "tt = (\"Fido\", turtle.Turtle())\n",
    "type(tt)"
   ]
  },
  {
   "cell_type": "code",
   "execution_count": 2,
   "id": "pretty-design",
   "metadata": {
    "tags": []
   },
   "outputs": [
    {
     "name": "stdout",
     "output_type": "stream",
     "text": [
      "Turtle is named Fido\n"
     ]
    }
   ],
   "source": [
    "print(\"Turtle is named\", tt[0])"
   ]
  },
  {
   "cell_type": "code",
   "execution_count": 3,
   "id": "copyrighted-emergency",
   "metadata": {},
   "outputs": [],
   "source": [
    "tt[1].forward(100)"
   ]
  },
  {
   "cell_type": "code",
   "execution_count": 4,
   "id": "facial-checklist",
   "metadata": {
    "tags": []
   },
   "outputs": [
    {
     "ename": "TypeError",
     "evalue": "'tuple' object does not support item assignment",
     "output_type": "error",
     "traceback": [
      "\u001b[0;31m---------------------------------------------------------------------------\u001b[0m",
      "\u001b[0;31mTypeError\u001b[0m                                 Traceback (most recent call last)",
      "Cell \u001b[0;32mIn[4], line 1\u001b[0m\n\u001b[0;32m----> 1\u001b[0m tt[\u001b[38;5;241m0\u001b[39m] \u001b[38;5;241m=\u001b[39m \u001b[38;5;124m\"\u001b[39m\u001b[38;5;124mPookey\u001b[39m\u001b[38;5;124m\"\u001b[39m\n",
      "\u001b[0;31mTypeError\u001b[0m: 'tuple' object does not support item assignment"
     ]
    }
   ],
   "source": [
    "tt[0] = \"Pookey\""
   ]
  },
  {
   "cell_type": "markdown",
   "id": "aboriginal-utilization",
   "metadata": {},
   "source": [
    "Tuples can be used to assing multiple variables at once"
   ]
  },
  {
   "cell_type": "code",
   "execution_count": 5,
   "id": "communist-coordinator",
   "metadata": {
    "tags": []
   },
   "outputs": [
    {
     "name": "stdout",
     "output_type": "stream",
     "text": [
      "Fido\n"
     ]
    }
   ],
   "source": [
    "(name, turt) = tt # tuple assignment\n",
    "print(name)"
   ]
  },
  {
   "cell_type": "markdown",
   "id": "coastal-dominant",
   "metadata": {},
   "source": [
    "To change a tuple, you have to create a new one and use the splice operator."
   ]
  },
  {
   "cell_type": "code",
   "execution_count": 6,
   "id": "consecutive-tiger",
   "metadata": {},
   "outputs": [
    {
     "name": "stdout",
     "output_type": "stream",
     "text": [
      "Greg\n",
      "('Fido', <turtle.Turtle object at 0x106d6fcb0>, 'Greg', <turtle.Turtle object at 0x1261f34d0>)\n"
     ]
    }
   ],
   "source": [
    "new_tt = tt[:] + (\"Greg\", turtle.Turtle())\n",
    "print(new_tt[2])\n",
    "print(new_tt)"
   ]
  },
  {
   "cell_type": "code",
   "execution_count": 7,
   "id": "uniform-relevance",
   "metadata": {},
   "outputs": [
    {
     "name": "stdout",
     "output_type": "stream",
     "text": [
      "Jane\n",
      "('Fido', <turtle.Turtle object at 0x106d6fcb0>, 'Jane', <turtle.Turtle object at 0x1261f34d0>)\n"
     ]
    }
   ],
   "source": [
    "new_tt = new_tt[:2] + (\"Jane\",) + new_tt[3:]\n",
    "print(new_tt[2])\n",
    "print(new_tt)"
   ]
  },
  {
   "cell_type": "markdown",
   "id": "valuable-shade",
   "metadata": {},
   "source": [
    "---\n",
    "Tuples are often used to allow us to return multiple things from a function. **What is printed from this code?**"
   ]
  },
  {
   "cell_type": "code",
   "execution_count": null,
   "id": "greatest-shepherd",
   "metadata": {},
   "outputs": [],
   "source": [
    "def double_and_square(n):\n",
    "    dub = n * 2\n",
    "    squrr = n ** 2\n",
    "    return (dub, squrr)\n",
    "\n",
    "moo = double_and_square(5)\n",
    "print(moo)\n",
    "(d, s) = double_and_square(3)\n",
    "print(d)\n",
    "print(s)"
   ]
  },
  {
   "cell_type": "markdown",
   "id": "living-chicken",
   "metadata": {},
   "source": [
    "---\n",
    "### Apply it\n",
    "\n",
    "What type of object does item refer to? **This is a poll question**\n",
    "\n",
    "|||\n",
    "|---|---|\n",
    "|A.|int|\n",
    "|B.|string|\n",
    "|C.|list|\n",
    "|D.|tuple|\n",
    "|E.|None of the above|\n"
   ]
  },
  {
   "cell_type": "code",
   "execution_count": null,
   "id": "raising-civilization",
   "metadata": {},
   "outputs": [],
   "source": [
    "def myst(lot, target):\n",
    "    found = 0\n",
    "    total = 0\n",
    "    for item in lot:\n",
    "        if item[0] == target:\n",
    "            total = total + item[1]\n",
    "            found = found + 1\n",
    "    return (found, total)\n",
    "\n",
    "moo = [(1, 5), (6, 2), (2, 9)]\n",
    "print(myst(moo, 2))"
   ]
  },
  {
   "cell_type": "markdown",
   "id": "fourth-habitat",
   "metadata": {},
   "source": [
    "What is printed while running the above code? **This is a poll question**\n",
    "\n",
    "|||\n",
    "|---|---|\n",
    "|A.|(0, 0)|\n",
    "|B.|(1, 9)|\n",
    "|C.|(2, 9)|\n",
    "|D.|Other|\n",
    "|E.|Error|\n"
   ]
  },
  {
   "cell_type": "markdown",
   "id": "pending-press",
   "metadata": {},
   "source": [
    "---\n",
    "**In groups** What is printed while running this code?"
   ]
  },
  {
   "cell_type": "code",
   "execution_count": 1,
   "id": "varying-malta",
   "metadata": {},
   "outputs": [
    {
     "name": "stdout",
     "output_type": "stream",
     "text": [
      "2\n",
      "10\n",
      "12\n",
      "4\n",
      "4\n",
      "18\n",
      "7\n"
     ]
    }
   ],
   "source": [
    "def foo(lot, target):\n",
    "    diff_total = 0\n",
    "    for item in lot:\n",
    "        diff_total += (item[1] - item[0])\n",
    "        for q in item:\n",
    "            print(q * 2)\n",
    "    return diff_total\n",
    "\n",
    "moo = [(1, 5), (6, 2), (2, 9)]\n",
    "print(foo(moo, 2))"
   ]
  },
  {
   "cell_type": "code",
   "execution_count": null,
   "id": "409e8f3c",
   "metadata": {},
   "outputs": [],
   "source": []
  }
 ],
 "metadata": {
  "kernelspec": {
   "display_name": "base",
   "language": "python",
   "name": "python3"
  },
  "language_info": {
   "codemirror_mode": {
    "name": "ipython",
    "version": 3
   },
   "file_extension": ".py",
   "mimetype": "text/x-python",
   "name": "python",
   "nbconvert_exporter": "python",
   "pygments_lexer": "ipython3",
   "version": "3.12.4"
  },
  "toc-showtags": false
 },
 "nbformat": 4,
 "nbformat_minor": 5
}
